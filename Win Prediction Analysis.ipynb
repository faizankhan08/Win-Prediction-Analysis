{
 "cells": [
  {
   "cell_type": "markdown",
   "id": "68e53b76",
   "metadata": {},
   "source": [
    "# WIN Prediction Analytics\n",
    "\n",
    "Aim of this project is to analyze and predict the win possibilities of deals/projects for an IT consulting company and see how the possibility of winning a deal is impacted by other variables. This will enable the IT consulting company to manage the effort required to win a deal to meet the growth targets. \n",
    "\n",
    "Data file contains data related to the projects/deals won or lost. This data contains the project category, price and sector from 2011 to 2018\n",
    "\n",
    "Objective 1: Predictive Analytics - Build a ML model to predict the probability of win/loss for bidding activities for a potential client. \n",
    "Objective 2: Prescriptive Analytics – Identify variable/s that are most likely to help in converting an opportunity into a win. \n",
    "\n",
    "Based on the data available build a model to predict the bidding outcome. This will help your organization decide whether the bid manager and his team should invest their effort working for the win. Also note that in this data there are multiple bid managers working with a SBU Head and vice versa. Based on the data you also need to identify the SBU HeadBid Manager pair which will have the highest winning probability for the bid."
   ]
  },
  {
   "cell_type": "markdown",
   "id": "2f006b2e",
   "metadata": {},
   "source": [
    "So first of all starting with loading the libraries and setting the directory"
   ]
  },
  {
   "cell_type": "code",
   "execution_count": 1,
   "id": "38323746",
   "metadata": {},
   "outputs": [],
   "source": [
    "import pandas as pd\n",
    "import numpy as np\n",
    "import seaborn as sns\n",
    "import matplotlib.pyplot as plt\n",
    "import warnings\n",
    "%matplotlib inline\n",
    "warnings.filterwarnings('ignore')\n",
    "#pd.pandas.set_option('display.max_columns', None)"
   ]
  },
  {
   "cell_type": "code",
   "execution_count": 2,
   "id": "f03c0a51",
   "metadata": {},
   "outputs": [
    {
     "data": {
      "text/plain": [
       "'D:\\\\faizan\\\\DSP\\\\Python\\\\Capstone Project'"
      ]
     },
     "execution_count": 2,
     "metadata": {},
     "output_type": "execute_result"
    }
   ],
   "source": [
    "import os\n",
    "os.getcwd()"
   ]
  },
  {
   "cell_type": "code",
   "execution_count": 3,
   "id": "4a92c3d3",
   "metadata": {},
   "outputs": [
    {
     "data": {
      "text/plain": [
       "'D:\\\\faizan\\\\DSP\\\\Python\\\\Capstone Project'"
      ]
     },
     "execution_count": 3,
     "metadata": {},
     "output_type": "execute_result"
    }
   ],
   "source": [
    "path = \"D:\\\\faizan\\DSP\\Python\\Capstone Project\"\n",
    "os.chdir(path)\n",
    "os.getcwd()"
   ]
  },
  {
   "cell_type": "markdown",
   "id": "97f54c62",
   "metadata": {},
   "source": [
    "After setting the path, let's start with loading our datafile."
   ]
  },
  {
   "cell_type": "code",
   "execution_count": 4,
   "id": "182744f9",
   "metadata": {},
   "outputs": [
    {
     "data": {
      "text/html": [
       "<div>\n",
       "<style scoped>\n",
       "    .dataframe tbody tr th:only-of-type {\n",
       "        vertical-align: middle;\n",
       "    }\n",
       "\n",
       "    .dataframe tbody tr th {\n",
       "        vertical-align: top;\n",
       "    }\n",
       "\n",
       "    .dataframe thead th {\n",
       "        text-align: right;\n",
       "    }\n",
       "</style>\n",
       "<table border=\"1\" class=\"dataframe\">\n",
       "  <thead>\n",
       "    <tr style=\"text-align: right;\">\n",
       "      <th></th>\n",
       "      <th>Client Category</th>\n",
       "      <th>Solution Type</th>\n",
       "      <th>Deal Date</th>\n",
       "      <th>Sector</th>\n",
       "      <th>Location</th>\n",
       "      <th>VP Name</th>\n",
       "      <th>Manager Name</th>\n",
       "      <th>Deal Cost</th>\n",
       "      <th>Deal Status Code</th>\n",
       "    </tr>\n",
       "  </thead>\n",
       "  <tbody>\n",
       "    <tr>\n",
       "      <th>0</th>\n",
       "      <td>Telecom</td>\n",
       "      <td>Solution 7</td>\n",
       "      <td>2012-03-27</td>\n",
       "      <td>Sector 24</td>\n",
       "      <td>L5</td>\n",
       "      <td>Ekta Zutshi</td>\n",
       "      <td>Gopa Trilochana</td>\n",
       "      <td>150000.00</td>\n",
       "      <td>Won</td>\n",
       "    </tr>\n",
       "    <tr>\n",
       "      <th>1</th>\n",
       "      <td>Telecom</td>\n",
       "      <td>Solution 7</td>\n",
       "      <td>2012-09-25</td>\n",
       "      <td>Sector 24</td>\n",
       "      <td>L5</td>\n",
       "      <td>Ekta Zutshi</td>\n",
       "      <td>Gopa Trilochana</td>\n",
       "      <td>744705.88</td>\n",
       "      <td>Won</td>\n",
       "    </tr>\n",
       "    <tr>\n",
       "      <th>2</th>\n",
       "      <td>Internal</td>\n",
       "      <td>Solution 59</td>\n",
       "      <td>2011-08-01</td>\n",
       "      <td>Sector 20</td>\n",
       "      <td>Others</td>\n",
       "      <td>Ekta Zutshi</td>\n",
       "      <td>Russell Dahlen</td>\n",
       "      <td>60000.00</td>\n",
       "      <td>Lost</td>\n",
       "    </tr>\n",
       "    <tr>\n",
       "      <th>3</th>\n",
       "      <td>Internal</td>\n",
       "      <td>Solution 59</td>\n",
       "      <td>2011-04-28</td>\n",
       "      <td>Sector 20</td>\n",
       "      <td>Others</td>\n",
       "      <td>Ekta Zutshi</td>\n",
       "      <td>Russell Dahlen</td>\n",
       "      <td>60000.00</td>\n",
       "      <td>Lost</td>\n",
       "    </tr>\n",
       "    <tr>\n",
       "      <th>4</th>\n",
       "      <td>Internal</td>\n",
       "      <td>Solution 32</td>\n",
       "      <td>2011-06-03</td>\n",
       "      <td>Sector 20</td>\n",
       "      <td>Others</td>\n",
       "      <td>Ekta Zutshi</td>\n",
       "      <td>Russell Dahlen</td>\n",
       "      <td>80882.35</td>\n",
       "      <td>Lost</td>\n",
       "    </tr>\n",
       "  </tbody>\n",
       "</table>\n",
       "</div>"
      ],
      "text/plain": [
       "  Client Category Solution Type  Deal Date     Sector Location      VP Name  \\\n",
       "0         Telecom    Solution 7 2012-03-27  Sector 24       L5  Ekta Zutshi   \n",
       "1         Telecom    Solution 7 2012-09-25  Sector 24       L5  Ekta Zutshi   \n",
       "2        Internal   Solution 59 2011-08-01  Sector 20   Others  Ekta Zutshi   \n",
       "3        Internal   Solution 59 2011-04-28  Sector 20   Others  Ekta Zutshi   \n",
       "4        Internal   Solution 32 2011-06-03  Sector 20   Others  Ekta Zutshi   \n",
       "\n",
       "      Manager Name  Deal Cost Deal Status Code  \n",
       "0  Gopa Trilochana  150000.00              Won  \n",
       "1  Gopa Trilochana  744705.88              Won  \n",
       "2   Russell Dahlen   60000.00             Lost  \n",
       "3   Russell Dahlen   60000.00             Lost  \n",
       "4   Russell Dahlen   80882.35             Lost  "
      ]
     },
     "execution_count": 4,
     "metadata": {},
     "output_type": "execute_result"
    }
   ],
   "source": [
    "dataset = pd.read_excel(\"Win_Prediction_Data-Copy.xlsx\")\n",
    "dataset.head()"
   ]
  },
  {
   "cell_type": "markdown",
   "id": "af65c0d2",
   "metadata": {},
   "source": [
    "We can see that there are lots of categorical variables and our aim to find out the prediction for, 'Deal Status Code' i.e. it is our target variable. Further knowing data more:-"
   ]
  },
  {
   "cell_type": "code",
   "execution_count": 5,
   "id": "fb23b93d",
   "metadata": {},
   "outputs": [
    {
     "data": {
      "text/plain": [
       "(10061, 9)"
      ]
     },
     "execution_count": 5,
     "metadata": {},
     "output_type": "execute_result"
    }
   ],
   "source": [
    "dataset.shape"
   ]
  },
  {
   "cell_type": "markdown",
   "id": "1ca9e4f4",
   "metadata": {},
   "source": [
    "So our Data has 10061 rows and 9 features out of which 8 are independent variable and 1 is dependent variable.\n",
    "\n",
    "Now getting more information of our data,"
   ]
  },
  {
   "cell_type": "code",
   "execution_count": 6,
   "id": "11e35b05",
   "metadata": {},
   "outputs": [
    {
     "name": "stdout",
     "output_type": "stream",
     "text": [
      "<class 'pandas.core.frame.DataFrame'>\n",
      "RangeIndex: 10061 entries, 0 to 10060\n",
      "Data columns (total 9 columns):\n",
      " #   Column            Non-Null Count  Dtype         \n",
      "---  ------            --------------  -----         \n",
      " 0   Client Category   9982 non-null   object        \n",
      " 1   Solution Type     10061 non-null  object        \n",
      " 2   Deal Date         10061 non-null  datetime64[ns]\n",
      " 3   Sector            10061 non-null  object        \n",
      " 4   Location          10061 non-null  object        \n",
      " 5   VP Name           10061 non-null  object        \n",
      " 6   Manager Name      10061 non-null  object        \n",
      " 7   Deal Cost         10061 non-null  float64       \n",
      " 8   Deal Status Code  10061 non-null  object        \n",
      "dtypes: datetime64[ns](1), float64(1), object(7)\n",
      "memory usage: 707.5+ KB\n"
     ]
    }
   ],
   "source": [
    "dataset.info()"
   ]
  },
  {
   "cell_type": "markdown",
   "id": "c0561975",
   "metadata": {},
   "source": [
    "Here we find that out of 8 independent variables 7 are categorical and 1 is float data type.\n",
    "\n",
    "Further finding out number of duplicate rows and viewing them,"
   ]
  },
  {
   "cell_type": "code",
   "execution_count": 7,
   "id": "b53c5ff6",
   "metadata": {},
   "outputs": [
    {
     "data": {
      "text/plain": [
       "14"
      ]
     },
     "execution_count": 7,
     "metadata": {},
     "output_type": "execute_result"
    }
   ],
   "source": [
    "dataset.duplicated().sum()"
   ]
  },
  {
   "cell_type": "code",
   "execution_count": 8,
   "id": "4d1d1d94",
   "metadata": {},
   "outputs": [
    {
     "data": {
      "text/html": [
       "<div>\n",
       "<style scoped>\n",
       "    .dataframe tbody tr th:only-of-type {\n",
       "        vertical-align: middle;\n",
       "    }\n",
       "\n",
       "    .dataframe tbody tr th {\n",
       "        vertical-align: top;\n",
       "    }\n",
       "\n",
       "    .dataframe thead th {\n",
       "        text-align: right;\n",
       "    }\n",
       "</style>\n",
       "<table border=\"1\" class=\"dataframe\">\n",
       "  <thead>\n",
       "    <tr style=\"text-align: right;\">\n",
       "      <th></th>\n",
       "      <th>Client Category</th>\n",
       "      <th>Solution Type</th>\n",
       "      <th>Deal Date</th>\n",
       "      <th>Sector</th>\n",
       "      <th>Location</th>\n",
       "      <th>VP Name</th>\n",
       "      <th>Manager Name</th>\n",
       "      <th>Deal Cost</th>\n",
       "      <th>Deal Status Code</th>\n",
       "    </tr>\n",
       "  </thead>\n",
       "  <tbody>\n",
       "    <tr>\n",
       "      <th>3007</th>\n",
       "      <td>Domestic Public Bank</td>\n",
       "      <td>Solution 32</td>\n",
       "      <td>2015-03-20</td>\n",
       "      <td>Sector 2</td>\n",
       "      <td>L7</td>\n",
       "      <td>Rosanna Maynez</td>\n",
       "      <td>Earline Langton</td>\n",
       "      <td>735294.12</td>\n",
       "      <td>Lost</td>\n",
       "    </tr>\n",
       "    <tr>\n",
       "      <th>3036</th>\n",
       "      <td>Domestic Public Bank</td>\n",
       "      <td>Solution 32</td>\n",
       "      <td>2015-03-20</td>\n",
       "      <td>Sector 2</td>\n",
       "      <td>L7</td>\n",
       "      <td>Rosanna Maynez</td>\n",
       "      <td>Earline Langton</td>\n",
       "      <td>735294.12</td>\n",
       "      <td>Lost</td>\n",
       "    </tr>\n",
       "    <tr>\n",
       "      <th>3333</th>\n",
       "      <td>Tech</td>\n",
       "      <td>Solution 32</td>\n",
       "      <td>2015-07-31</td>\n",
       "      <td>Sector 2</td>\n",
       "      <td>L10</td>\n",
       "      <td>Long Bergstrom</td>\n",
       "      <td>Emil Knudsen</td>\n",
       "      <td>235294.12</td>\n",
       "      <td>Lost</td>\n",
       "    </tr>\n",
       "    <tr>\n",
       "      <th>3385</th>\n",
       "      <td>Tech</td>\n",
       "      <td>Solution 32</td>\n",
       "      <td>2015-07-31</td>\n",
       "      <td>Sector 2</td>\n",
       "      <td>L10</td>\n",
       "      <td>Long Bergstrom</td>\n",
       "      <td>Emil Knudsen</td>\n",
       "      <td>235294.12</td>\n",
       "      <td>Lost</td>\n",
       "    </tr>\n",
       "    <tr>\n",
       "      <th>3879</th>\n",
       "      <td>Telecom</td>\n",
       "      <td>Solution 12</td>\n",
       "      <td>2013-08-30</td>\n",
       "      <td>Sector 24</td>\n",
       "      <td>Others</td>\n",
       "      <td>Mangesh K. Singh</td>\n",
       "      <td>Sohil Kumar</td>\n",
       "      <td>588235.29</td>\n",
       "      <td>Lost</td>\n",
       "    </tr>\n",
       "    <tr>\n",
       "      <th>3880</th>\n",
       "      <td>Telecom</td>\n",
       "      <td>Solution 12</td>\n",
       "      <td>2013-08-30</td>\n",
       "      <td>Sector 24</td>\n",
       "      <td>Others</td>\n",
       "      <td>Mangesh K. Singh</td>\n",
       "      <td>Sohil Kumar</td>\n",
       "      <td>588235.29</td>\n",
       "      <td>Lost</td>\n",
       "    </tr>\n",
       "    <tr>\n",
       "      <th>5030</th>\n",
       "      <td>Tech</td>\n",
       "      <td>Solution 13</td>\n",
       "      <td>2012-05-08</td>\n",
       "      <td>Sector 23</td>\n",
       "      <td>L5</td>\n",
       "      <td>Sargar Deep Rao</td>\n",
       "      <td>Karan Dubey</td>\n",
       "      <td>0.00</td>\n",
       "      <td>Lost</td>\n",
       "    </tr>\n",
       "    <tr>\n",
       "      <th>5037</th>\n",
       "      <td>Tech</td>\n",
       "      <td>Solution 13</td>\n",
       "      <td>2012-05-08</td>\n",
       "      <td>Sector 23</td>\n",
       "      <td>L5</td>\n",
       "      <td>Sargar Deep Rao</td>\n",
       "      <td>Karan Dubey</td>\n",
       "      <td>0.00</td>\n",
       "      <td>Lost</td>\n",
       "    </tr>\n",
       "    <tr>\n",
       "      <th>7620</th>\n",
       "      <td>Govt</td>\n",
       "      <td>Solution 34</td>\n",
       "      <td>2018-02-21</td>\n",
       "      <td>Sector 4</td>\n",
       "      <td>L10</td>\n",
       "      <td>Mervin Harwood</td>\n",
       "      <td>Akshay Sharma</td>\n",
       "      <td>602941.18</td>\n",
       "      <td>Lost</td>\n",
       "    </tr>\n",
       "    <tr>\n",
       "      <th>7637</th>\n",
       "      <td>Govt</td>\n",
       "      <td>Solution 34</td>\n",
       "      <td>2018-02-21</td>\n",
       "      <td>Sector 4</td>\n",
       "      <td>L10</td>\n",
       "      <td>Mervin Harwood</td>\n",
       "      <td>Akshay Sharma</td>\n",
       "      <td>602941.18</td>\n",
       "      <td>Lost</td>\n",
       "    </tr>\n",
       "    <tr>\n",
       "      <th>7685</th>\n",
       "      <td>Internal</td>\n",
       "      <td>Solution 9</td>\n",
       "      <td>2015-01-06</td>\n",
       "      <td>Sector 20</td>\n",
       "      <td>Others</td>\n",
       "      <td>Sargar Deep Rao</td>\n",
       "      <td>Brenton Launius</td>\n",
       "      <td>2120294.12</td>\n",
       "      <td>Lost</td>\n",
       "    </tr>\n",
       "    <tr>\n",
       "      <th>7693</th>\n",
       "      <td>Services_based</td>\n",
       "      <td>Solution 26</td>\n",
       "      <td>2018-02-11</td>\n",
       "      <td>Sector 17</td>\n",
       "      <td>L10</td>\n",
       "      <td>Molly Eakes</td>\n",
       "      <td>vansu dev</td>\n",
       "      <td>264705.88</td>\n",
       "      <td>Lost</td>\n",
       "    </tr>\n",
       "    <tr>\n",
       "      <th>7705</th>\n",
       "      <td>Internal</td>\n",
       "      <td>Solution 9</td>\n",
       "      <td>2015-01-06</td>\n",
       "      <td>Sector 20</td>\n",
       "      <td>Others</td>\n",
       "      <td>Sargar Deep Rao</td>\n",
       "      <td>Brenton Launius</td>\n",
       "      <td>2120294.12</td>\n",
       "      <td>Lost</td>\n",
       "    </tr>\n",
       "    <tr>\n",
       "      <th>7718</th>\n",
       "      <td>Services_based</td>\n",
       "      <td>Solution 26</td>\n",
       "      <td>2018-02-11</td>\n",
       "      <td>Sector 17</td>\n",
       "      <td>L10</td>\n",
       "      <td>Molly Eakes</td>\n",
       "      <td>vansu dev</td>\n",
       "      <td>264705.88</td>\n",
       "      <td>Lost</td>\n",
       "    </tr>\n",
       "    <tr>\n",
       "      <th>8002</th>\n",
       "      <td>Internal</td>\n",
       "      <td>Solution 9</td>\n",
       "      <td>2015-07-02</td>\n",
       "      <td>Sector 2</td>\n",
       "      <td>L9</td>\n",
       "      <td>Sargar Deep Rao</td>\n",
       "      <td>Rahul Kocher</td>\n",
       "      <td>264705.88</td>\n",
       "      <td>Lost</td>\n",
       "    </tr>\n",
       "    <tr>\n",
       "      <th>8020</th>\n",
       "      <td>Internal</td>\n",
       "      <td>Solution 9</td>\n",
       "      <td>2015-07-02</td>\n",
       "      <td>Sector 2</td>\n",
       "      <td>L9</td>\n",
       "      <td>Sargar Deep Rao</td>\n",
       "      <td>Rahul Kocher</td>\n",
       "      <td>264705.88</td>\n",
       "      <td>Lost</td>\n",
       "    </tr>\n",
       "    <tr>\n",
       "      <th>8160</th>\n",
       "      <td>Services_based</td>\n",
       "      <td>Solution 9</td>\n",
       "      <td>2015-10-03</td>\n",
       "      <td>Sector 23</td>\n",
       "      <td>L1</td>\n",
       "      <td>Ankita Aggarwal</td>\n",
       "      <td>bhagwati prasad</td>\n",
       "      <td>147058.82</td>\n",
       "      <td>Lost</td>\n",
       "    </tr>\n",
       "    <tr>\n",
       "      <th>8164</th>\n",
       "      <td>Infrastructure</td>\n",
       "      <td>Solution 9</td>\n",
       "      <td>2015-05-18</td>\n",
       "      <td>Sector 24</td>\n",
       "      <td>L10</td>\n",
       "      <td>Mervin Harwood</td>\n",
       "      <td>nahar singh</td>\n",
       "      <td>352941.18</td>\n",
       "      <td>Lost</td>\n",
       "    </tr>\n",
       "    <tr>\n",
       "      <th>8167</th>\n",
       "      <td>Infrastructure</td>\n",
       "      <td>Solution 9</td>\n",
       "      <td>2015-05-18</td>\n",
       "      <td>Sector 24</td>\n",
       "      <td>L10</td>\n",
       "      <td>Mervin Harwood</td>\n",
       "      <td>nahar singh</td>\n",
       "      <td>352941.18</td>\n",
       "      <td>Lost</td>\n",
       "    </tr>\n",
       "    <tr>\n",
       "      <th>8177</th>\n",
       "      <td>Services_based</td>\n",
       "      <td>Solution 9</td>\n",
       "      <td>2015-10-03</td>\n",
       "      <td>Sector 23</td>\n",
       "      <td>L1</td>\n",
       "      <td>Ankita Aggarwal</td>\n",
       "      <td>bhagwati prasad</td>\n",
       "      <td>147058.82</td>\n",
       "      <td>Lost</td>\n",
       "    </tr>\n",
       "    <tr>\n",
       "      <th>8699</th>\n",
       "      <td>Others</td>\n",
       "      <td>Solution 9</td>\n",
       "      <td>2016-06-14</td>\n",
       "      <td>Sector 23</td>\n",
       "      <td>L4</td>\n",
       "      <td>Rosanna Maynez</td>\n",
       "      <td>Devendra Vishvakarma</td>\n",
       "      <td>294117.65</td>\n",
       "      <td>Lost</td>\n",
       "    </tr>\n",
       "    <tr>\n",
       "      <th>8730</th>\n",
       "      <td>Others</td>\n",
       "      <td>Solution 9</td>\n",
       "      <td>2016-06-14</td>\n",
       "      <td>Sector 23</td>\n",
       "      <td>L4</td>\n",
       "      <td>Rosanna Maynez</td>\n",
       "      <td>Devendra Vishvakarma</td>\n",
       "      <td>294117.65</td>\n",
       "      <td>Lost</td>\n",
       "    </tr>\n",
       "    <tr>\n",
       "      <th>8901</th>\n",
       "      <td>Domestic Private Bank</td>\n",
       "      <td>Solution 9</td>\n",
       "      <td>2016-08-22</td>\n",
       "      <td>Sector 2</td>\n",
       "      <td>L1</td>\n",
       "      <td>Rosanna Maynez</td>\n",
       "      <td>ram kumar</td>\n",
       "      <td>294117.65</td>\n",
       "      <td>Lost</td>\n",
       "    </tr>\n",
       "    <tr>\n",
       "      <th>8905</th>\n",
       "      <td>Domestic Private Bank</td>\n",
       "      <td>Solution 9</td>\n",
       "      <td>2016-08-22</td>\n",
       "      <td>Sector 2</td>\n",
       "      <td>L1</td>\n",
       "      <td>Rosanna Maynez</td>\n",
       "      <td>ram kumar</td>\n",
       "      <td>294117.65</td>\n",
       "      <td>Lost</td>\n",
       "    </tr>\n",
       "    <tr>\n",
       "      <th>9135</th>\n",
       "      <td>International Bank</td>\n",
       "      <td>Solution 54</td>\n",
       "      <td>2018-08-02</td>\n",
       "      <td>Sector 2</td>\n",
       "      <td>L10</td>\n",
       "      <td>Mervin Harwood</td>\n",
       "      <td>Rosana Yokum</td>\n",
       "      <td>235294.12</td>\n",
       "      <td>Lost</td>\n",
       "    </tr>\n",
       "    <tr>\n",
       "      <th>9208</th>\n",
       "      <td>International Bank</td>\n",
       "      <td>Solution 54</td>\n",
       "      <td>2018-08-02</td>\n",
       "      <td>Sector 2</td>\n",
       "      <td>L10</td>\n",
       "      <td>Mervin Harwood</td>\n",
       "      <td>Rosana Yokum</td>\n",
       "      <td>235294.12</td>\n",
       "      <td>Lost</td>\n",
       "    </tr>\n",
       "    <tr>\n",
       "      <th>9458</th>\n",
       "      <td>Internal</td>\n",
       "      <td>Solution 9</td>\n",
       "      <td>2017-12-22</td>\n",
       "      <td>Sector 20</td>\n",
       "      <td>Others</td>\n",
       "      <td>Hardeep Suksma</td>\n",
       "      <td>Raj Pinani</td>\n",
       "      <td>588235.29</td>\n",
       "      <td>Lost</td>\n",
       "    </tr>\n",
       "    <tr>\n",
       "      <th>9462</th>\n",
       "      <td>Internal</td>\n",
       "      <td>Solution 9</td>\n",
       "      <td>2017-12-22</td>\n",
       "      <td>Sector 20</td>\n",
       "      <td>Others</td>\n",
       "      <td>Hardeep Suksma</td>\n",
       "      <td>Raj Pinani</td>\n",
       "      <td>588235.29</td>\n",
       "      <td>Lost</td>\n",
       "    </tr>\n",
       "  </tbody>\n",
       "</table>\n",
       "</div>"
      ],
      "text/plain": [
       "            Client Category Solution Type  Deal Date     Sector Location  \\\n",
       "3007   Domestic Public Bank   Solution 32 2015-03-20   Sector 2       L7   \n",
       "3036   Domestic Public Bank   Solution 32 2015-03-20   Sector 2       L7   \n",
       "3333                   Tech   Solution 32 2015-07-31   Sector 2      L10   \n",
       "3385                   Tech   Solution 32 2015-07-31   Sector 2      L10   \n",
       "3879                Telecom   Solution 12 2013-08-30  Sector 24   Others   \n",
       "3880                Telecom   Solution 12 2013-08-30  Sector 24   Others   \n",
       "5030                   Tech   Solution 13 2012-05-08  Sector 23       L5   \n",
       "5037                   Tech   Solution 13 2012-05-08  Sector 23       L5   \n",
       "7620                   Govt   Solution 34 2018-02-21   Sector 4      L10   \n",
       "7637                   Govt   Solution 34 2018-02-21   Sector 4      L10   \n",
       "7685               Internal    Solution 9 2015-01-06  Sector 20   Others   \n",
       "7693         Services_based   Solution 26 2018-02-11  Sector 17      L10   \n",
       "7705               Internal    Solution 9 2015-01-06  Sector 20   Others   \n",
       "7718         Services_based   Solution 26 2018-02-11  Sector 17      L10   \n",
       "8002               Internal    Solution 9 2015-07-02   Sector 2       L9   \n",
       "8020               Internal    Solution 9 2015-07-02   Sector 2       L9   \n",
       "8160         Services_based    Solution 9 2015-10-03  Sector 23       L1   \n",
       "8164         Infrastructure    Solution 9 2015-05-18  Sector 24      L10   \n",
       "8167         Infrastructure    Solution 9 2015-05-18  Sector 24      L10   \n",
       "8177         Services_based    Solution 9 2015-10-03  Sector 23       L1   \n",
       "8699                 Others    Solution 9 2016-06-14  Sector 23       L4   \n",
       "8730                 Others    Solution 9 2016-06-14  Sector 23       L4   \n",
       "8901  Domestic Private Bank    Solution 9 2016-08-22   Sector 2       L1   \n",
       "8905  Domestic Private Bank    Solution 9 2016-08-22   Sector 2       L1   \n",
       "9135     International Bank   Solution 54 2018-08-02   Sector 2      L10   \n",
       "9208     International Bank   Solution 54 2018-08-02   Sector 2      L10   \n",
       "9458               Internal    Solution 9 2017-12-22  Sector 20   Others   \n",
       "9462               Internal    Solution 9 2017-12-22  Sector 20   Others   \n",
       "\n",
       "               VP Name          Manager Name   Deal Cost Deal Status Code  \n",
       "3007    Rosanna Maynez       Earline Langton   735294.12             Lost  \n",
       "3036    Rosanna Maynez       Earline Langton   735294.12             Lost  \n",
       "3333    Long Bergstrom          Emil Knudsen   235294.12             Lost  \n",
       "3385    Long Bergstrom          Emil Knudsen   235294.12             Lost  \n",
       "3879  Mangesh K. Singh           Sohil Kumar   588235.29             Lost  \n",
       "3880  Mangesh K. Singh           Sohil Kumar   588235.29             Lost  \n",
       "5030   Sargar Deep Rao           Karan Dubey        0.00             Lost  \n",
       "5037   Sargar Deep Rao           Karan Dubey        0.00             Lost  \n",
       "7620    Mervin Harwood         Akshay Sharma   602941.18             Lost  \n",
       "7637    Mervin Harwood         Akshay Sharma   602941.18             Lost  \n",
       "7685   Sargar Deep Rao       Brenton Launius  2120294.12             Lost  \n",
       "7693       Molly Eakes             vansu dev   264705.88             Lost  \n",
       "7705   Sargar Deep Rao       Brenton Launius  2120294.12             Lost  \n",
       "7718       Molly Eakes             vansu dev   264705.88             Lost  \n",
       "8002   Sargar Deep Rao          Rahul Kocher   264705.88             Lost  \n",
       "8020   Sargar Deep Rao          Rahul Kocher   264705.88             Lost  \n",
       "8160   Ankita Aggarwal       bhagwati prasad   147058.82             Lost  \n",
       "8164    Mervin Harwood           nahar singh   352941.18             Lost  \n",
       "8167    Mervin Harwood           nahar singh   352941.18             Lost  \n",
       "8177   Ankita Aggarwal       bhagwati prasad   147058.82             Lost  \n",
       "8699    Rosanna Maynez  Devendra Vishvakarma   294117.65             Lost  \n",
       "8730    Rosanna Maynez  Devendra Vishvakarma   294117.65             Lost  \n",
       "8901    Rosanna Maynez             ram kumar   294117.65             Lost  \n",
       "8905    Rosanna Maynez             ram kumar   294117.65             Lost  \n",
       "9135    Mervin Harwood          Rosana Yokum   235294.12             Lost  \n",
       "9208    Mervin Harwood          Rosana Yokum   235294.12             Lost  \n",
       "9458    Hardeep Suksma            Raj Pinani   588235.29             Lost  \n",
       "9462    Hardeep Suksma            Raj Pinani   588235.29             Lost  "
      ]
     },
     "execution_count": 8,
     "metadata": {},
     "output_type": "execute_result"
    }
   ],
   "source": [
    "dataset.loc[dataset.duplicated(keep=False), : ]"
   ]
  },
  {
   "cell_type": "markdown",
   "id": "b4b18473",
   "metadata": {},
   "source": [
    "Removing these duplicate rows,"
   ]
  },
  {
   "cell_type": "code",
   "execution_count": 9,
   "id": "6d9c603e",
   "metadata": {},
   "outputs": [
    {
     "data": {
      "text/plain": [
       "(10047, 9)"
      ]
     },
     "execution_count": 9,
     "metadata": {},
     "output_type": "execute_result"
    }
   ],
   "source": [
    "dataset.drop_duplicates(keep='first').shape"
   ]
  },
  {
   "cell_type": "markdown",
   "id": "dea8e2a8",
   "metadata": {},
   "source": [
    "Now by considering our problem statement we can analyse that our features-Client Category, VP Name, Manager Name, Deal Cost are more significant for Deal Status Code.\n",
    "\n",
    "Therefore dropping the remaining features."
   ]
  },
  {
   "cell_type": "code",
   "execution_count": 10,
   "id": "caffae27",
   "metadata": {},
   "outputs": [],
   "source": [
    "dataset.drop(['Solution Type', 'Deal Date', 'Sector', 'Location'], axis=1, inplace=True)"
   ]
  },
  {
   "cell_type": "code",
   "execution_count": 11,
   "id": "0f3852ed",
   "metadata": {},
   "outputs": [
    {
     "data": {
      "text/html": [
       "<div>\n",
       "<style scoped>\n",
       "    .dataframe tbody tr th:only-of-type {\n",
       "        vertical-align: middle;\n",
       "    }\n",
       "\n",
       "    .dataframe tbody tr th {\n",
       "        vertical-align: top;\n",
       "    }\n",
       "\n",
       "    .dataframe thead th {\n",
       "        text-align: right;\n",
       "    }\n",
       "</style>\n",
       "<table border=\"1\" class=\"dataframe\">\n",
       "  <thead>\n",
       "    <tr style=\"text-align: right;\">\n",
       "      <th></th>\n",
       "      <th>Client Category</th>\n",
       "      <th>VP Name</th>\n",
       "      <th>Manager Name</th>\n",
       "      <th>Deal Cost</th>\n",
       "      <th>Deal Status Code</th>\n",
       "    </tr>\n",
       "  </thead>\n",
       "  <tbody>\n",
       "    <tr>\n",
       "      <th>0</th>\n",
       "      <td>Telecom</td>\n",
       "      <td>Ekta Zutshi</td>\n",
       "      <td>Gopa Trilochana</td>\n",
       "      <td>150000.00</td>\n",
       "      <td>Won</td>\n",
       "    </tr>\n",
       "    <tr>\n",
       "      <th>1</th>\n",
       "      <td>Telecom</td>\n",
       "      <td>Ekta Zutshi</td>\n",
       "      <td>Gopa Trilochana</td>\n",
       "      <td>744705.88</td>\n",
       "      <td>Won</td>\n",
       "    </tr>\n",
       "    <tr>\n",
       "      <th>2</th>\n",
       "      <td>Internal</td>\n",
       "      <td>Ekta Zutshi</td>\n",
       "      <td>Russell Dahlen</td>\n",
       "      <td>60000.00</td>\n",
       "      <td>Lost</td>\n",
       "    </tr>\n",
       "    <tr>\n",
       "      <th>3</th>\n",
       "      <td>Internal</td>\n",
       "      <td>Ekta Zutshi</td>\n",
       "      <td>Russell Dahlen</td>\n",
       "      <td>60000.00</td>\n",
       "      <td>Lost</td>\n",
       "    </tr>\n",
       "    <tr>\n",
       "      <th>4</th>\n",
       "      <td>Internal</td>\n",
       "      <td>Ekta Zutshi</td>\n",
       "      <td>Russell Dahlen</td>\n",
       "      <td>80882.35</td>\n",
       "      <td>Lost</td>\n",
       "    </tr>\n",
       "  </tbody>\n",
       "</table>\n",
       "</div>"
      ],
      "text/plain": [
       "  Client Category      VP Name     Manager Name  Deal Cost Deal Status Code\n",
       "0         Telecom  Ekta Zutshi  Gopa Trilochana  150000.00              Won\n",
       "1         Telecom  Ekta Zutshi  Gopa Trilochana  744705.88              Won\n",
       "2        Internal  Ekta Zutshi   Russell Dahlen   60000.00             Lost\n",
       "3        Internal  Ekta Zutshi   Russell Dahlen   60000.00             Lost\n",
       "4        Internal  Ekta Zutshi   Russell Dahlen   80882.35             Lost"
      ]
     },
     "execution_count": 11,
     "metadata": {},
     "output_type": "execute_result"
    }
   ],
   "source": [
    "dataset.head()"
   ]
  },
  {
   "cell_type": "markdown",
   "id": "2a260115",
   "metadata": {},
   "source": [
    "Now checking for null values if any,"
   ]
  },
  {
   "cell_type": "code",
   "execution_count": 12,
   "id": "b242b53c",
   "metadata": {},
   "outputs": [
    {
     "data": {
      "text/plain": [
       "Client Category     79\n",
       "VP Name              0\n",
       "Manager Name         0\n",
       "Deal Cost            0\n",
       "Deal Status Code     0\n",
       "dtype: int64"
      ]
     },
     "execution_count": 12,
     "metadata": {},
     "output_type": "execute_result"
    }
   ],
   "source": [
    "dataset.isnull().sum()"
   ]
  },
  {
   "cell_type": "markdown",
   "id": "670d3cc9",
   "metadata": {},
   "source": [
    "Here we find that there are null values in Client Category. So as the Client Category if object or categorical variable replacing the missing value by most frequent value."
   ]
  },
  {
   "cell_type": "code",
   "execution_count": 13,
   "id": "3715e420",
   "metadata": {},
   "outputs": [
    {
     "data": {
      "text/plain": [
       "Others                   1763\n",
       "Internal                 1454\n",
       "Services_based           1202\n",
       "Tech                      913\n",
       "Domestic Public Bank      419\n",
       "International Bank        376\n",
       "Consulting                352\n",
       "Finance                   339\n",
       "Telecom                   327\n",
       "Power ind                 264\n",
       "Domestic Private Bank     262\n",
       "Insurance                 247\n",
       "Consumer Good             185\n",
       "Automobiles               178\n",
       "Infrastructure            152\n",
       "Domestic Bank             134\n",
       "Retail_market             126\n",
       "Govt                      121\n",
       "Hospitality               119\n",
       "Manufacturing             117\n",
       "Pharma                    110\n",
       "Healthcare                 99\n",
       "Electronics                81\n",
       "Media_Journal              71\n",
       "Industries                 66\n",
       "Research Development       63\n",
       "Energy                     57\n",
       "Knowledge                  50\n",
       "Management                 43\n",
       "Govt Bank Special          41\n",
       "Payment                    40\n",
       "Energy                     37\n",
       "e-commerce                 32\n",
       "Airpline                   27\n",
       "Holding                    25\n",
       "International Org          25\n",
       "Logistics                  20\n",
       "Real Estate                19\n",
       "Share_market               14\n",
       "Tax_audit                   7\n",
       "Medical                     5\n",
       "Name: Client Category, dtype: int64"
      ]
     },
     "execution_count": 13,
     "metadata": {},
     "output_type": "execute_result"
    }
   ],
   "source": [
    "dataset['Client Category'].value_counts()"
   ]
  },
  {
   "cell_type": "markdown",
   "id": "44fc7293",
   "metadata": {},
   "source": [
    "Here we find that 'Others' is most frequent in Client Category, therefore replacing the missing values with it."
   ]
  },
  {
   "cell_type": "code",
   "execution_count": 14,
   "id": "918168c3",
   "metadata": {},
   "outputs": [],
   "source": [
    "dataset['Client Category'] = dataset['Client Category'].fillna('Others')"
   ]
  },
  {
   "cell_type": "code",
   "execution_count": 15,
   "id": "0a3ca897",
   "metadata": {},
   "outputs": [
    {
     "data": {
      "text/plain": [
       "Client Category     0\n",
       "VP Name             0\n",
       "Manager Name        0\n",
       "Deal Cost           0\n",
       "Deal Status Code    0\n",
       "dtype: int64"
      ]
     },
     "execution_count": 15,
     "metadata": {},
     "output_type": "execute_result"
    }
   ],
   "source": [
    "dataset.isnull().sum()"
   ]
  },
  {
   "cell_type": "markdown",
   "id": "b01c782b",
   "metadata": {},
   "source": [
    "As it is a classification problem outliers will not a problem for us. Also we need to conver the categorical variables into the numeric form in order to process our data.\n",
    "\n",
    "Now going to the visualization part,\n",
    "We will try to analyse 'Deal Status Code'"
   ]
  },
  {
   "cell_type": "code",
   "execution_count": 16,
   "id": "9aaa5714",
   "metadata": {},
   "outputs": [
    {
     "data": {
      "text/plain": [
       "<AxesSubplot:xlabel='Deal Status Code', ylabel='count'>"
      ]
     },
     "execution_count": 16,
     "metadata": {},
     "output_type": "execute_result"
    },
    {
     "data": {
      "image/png": "[encoded data removed]",
      "text/plain": [
       "<Figure size 432x288 with 1 Axes>"
      ]
     },
     "metadata": {
      "needs_background": "light"
     },
     "output_type": "display_data"
    }
   ],
   "source": [
    "sns.countplot(dataset['Deal Status Code'])"
   ]
  },
  {
   "cell_type": "markdown",
   "id": "29f73990",
   "metadata": {},
   "source": [
    "From this we found that number of Lost bids are more than the number of Won bids\n",
    "\n",
    "Now in order to analyse further lets encode our categorical variables.\n",
    "\n",
    "Starting with 'Deal Status Code' and using Label Encoder from sklearn to encode."
   ]
  },
  {
   "cell_type": "code",
   "execution_count": 17,
   "id": "733e08a4",
   "metadata": {},
   "outputs": [
    {
     "data": {
      "text/html": [
       "<div>\n",
       "<style scoped>\n",
       "    .dataframe tbody tr th:only-of-type {\n",
       "        vertical-align: middle;\n",
       "    }\n",
       "\n",
       "    .dataframe tbody tr th {\n",
       "        vertical-align: top;\n",
       "    }\n",
       "\n",
       "    .dataframe thead th {\n",
       "        text-align: right;\n",
       "    }\n",
       "</style>\n",
       "<table border=\"1\" class=\"dataframe\">\n",
       "  <thead>\n",
       "    <tr style=\"text-align: right;\">\n",
       "      <th></th>\n",
       "      <th>Client Category</th>\n",
       "      <th>VP Name</th>\n",
       "      <th>Manager Name</th>\n",
       "      <th>Deal Cost</th>\n",
       "      <th>Deal Status Code</th>\n",
       "    </tr>\n",
       "  </thead>\n",
       "  <tbody>\n",
       "    <tr>\n",
       "      <th>0</th>\n",
       "      <td>Telecom</td>\n",
       "      <td>Ekta Zutshi</td>\n",
       "      <td>Gopa Trilochana</td>\n",
       "      <td>150000.00</td>\n",
       "      <td>1</td>\n",
       "    </tr>\n",
       "    <tr>\n",
       "      <th>1</th>\n",
       "      <td>Telecom</td>\n",
       "      <td>Ekta Zutshi</td>\n",
       "      <td>Gopa Trilochana</td>\n",
       "      <td>744705.88</td>\n",
       "      <td>1</td>\n",
       "    </tr>\n",
       "    <tr>\n",
       "      <th>2</th>\n",
       "      <td>Internal</td>\n",
       "      <td>Ekta Zutshi</td>\n",
       "      <td>Russell Dahlen</td>\n",
       "      <td>60000.00</td>\n",
       "      <td>0</td>\n",
       "    </tr>\n",
       "    <tr>\n",
       "      <th>3</th>\n",
       "      <td>Internal</td>\n",
       "      <td>Ekta Zutshi</td>\n",
       "      <td>Russell Dahlen</td>\n",
       "      <td>60000.00</td>\n",
       "      <td>0</td>\n",
       "    </tr>\n",
       "    <tr>\n",
       "      <th>4</th>\n",
       "      <td>Internal</td>\n",
       "      <td>Ekta Zutshi</td>\n",
       "      <td>Russell Dahlen</td>\n",
       "      <td>80882.35</td>\n",
       "      <td>0</td>\n",
       "    </tr>\n",
       "  </tbody>\n",
       "</table>\n",
       "</div>"
      ],
      "text/plain": [
       "  Client Category      VP Name     Manager Name  Deal Cost  Deal Status Code\n",
       "0         Telecom  Ekta Zutshi  Gopa Trilochana  150000.00                 1\n",
       "1         Telecom  Ekta Zutshi  Gopa Trilochana  744705.88                 1\n",
       "2        Internal  Ekta Zutshi   Russell Dahlen   60000.00                 0\n",
       "3        Internal  Ekta Zutshi   Russell Dahlen   60000.00                 0\n",
       "4        Internal  Ekta Zutshi   Russell Dahlen   80882.35                 0"
      ]
     },
     "execution_count": 17,
     "metadata": {},
     "output_type": "execute_result"
    }
   ],
   "source": [
    "from sklearn.preprocessing import LabelEncoder\n",
    "le = LabelEncoder()\n",
    "dataset['Deal Status Code'] = le.fit_transform(dataset['Deal Status Code'])\n",
    "dataset.head()"
   ]
  },
  {
   "cell_type": "markdown",
   "id": "d7b8661f",
   "metadata": {},
   "source": [
    "As we can see the 'Won' is encoded as '1' and 'Lost' is encoded as '0'.\n",
    "\n",
    "Now we will try to find out the relationship between 'VP Name' and 'Deal Status Code' using seaborn library."
   ]
  },
  {
   "cell_type": "code",
   "execution_count": 18,
   "id": "665a5d88",
   "metadata": {},
   "outputs": [
    {
     "data": {
      "text/plain": [
       "<AxesSubplot:xlabel='Deal Status Code', ylabel='VP Name'>"
      ]
     },
     "execution_count": 18,
     "metadata": {},
     "output_type": "execute_result"
    },
    {
     "data": {
      "image/png": "[encoded data removed]",
      "text/plain": [
       "<Figure size 5400x1440 with 1 Axes>"
      ]
     },
     "metadata": {
      "needs_background": "light"
     },
     "output_type": "display_data"
    }
   ],
   "source": [
    "plt.subplots(figsize=(75,20))\n",
    "plt.yticks(rotation=0)\n",
    "sns.barplot(x = 'Deal Status Code', y = 'VP Name', data = dataset, estimator = np.sum, orient = 'h')"
   ]
  },
  {
   "cell_type": "markdown",
   "id": "0263d8d8",
   "metadata": {},
   "source": [
    "From this plot we found that some of the VP's like Long Bergstorm, Ekta Zutshi, Mervin Harwood, Rosanna Maynez, Sargar Deep Rao, Neeraj Kumar, Rahul Bajpai, Clinton Mani are having much higher number of winnings than others."
   ]
  },
  {
   "cell_type": "markdown",
   "id": "211f5c1c",
   "metadata": {},
   "source": [
    "Now lets try to find the relationship between 'Deal Cost' and 'VP Name' keeping hue as 'Deal Status Code' and estimator as mean."
   ]
  },
  {
   "cell_type": "code",
   "execution_count": 19,
   "id": "217e0b5d",
   "metadata": {},
   "outputs": [
    {
     "data": {
      "text/plain": [
       "<AxesSubplot:xlabel='Deal Cost', ylabel='VP Name'>"
      ]
     },
     "execution_count": 19,
     "metadata": {},
     "output_type": "execute_result"
    },
    {
     "data": {
      "image/png": "[encoded data removed]",
      "text/plain": [
       "<Figure size 5400x1440 with 1 Axes>"
      ]
     },
     "metadata": {
      "needs_background": "light"
     },
     "output_type": "display_data"
    }
   ],
   "source": [
    "plt.subplots(figsize=(75,20))\n",
    "sns.barplot(x = 'Deal Cost', y = 'VP Name', hue = 'Deal Status Code', data = dataset, estimator = np.mean, orient = 'h')"
   ]
  },
  {
   "cell_type": "markdown",
   "id": "127919c1",
   "metadata": {},
   "source": [
    "From this we found that Viswajeet Das and som dutt have won big budget bids.\n",
    "\n",
    "One interesting thing can be seen as even though Viswajeet Das have won big budget bid but his number of wins are very less as found in previos plot. So he must be fresher but very talented to handle such big deals.\n",
    "\n",
    "Also VP's like Mervin Harwood and Ekta Zutshi have dealt with low budget bids. So they must be very experienced in handling low budget bids as they are having higher number of wins."
   ]
  },
  {
   "cell_type": "code",
   "execution_count": 20,
   "id": "dc157fdc",
   "metadata": {},
   "outputs": [
    {
     "data": {
      "text/plain": [
       "<AxesSubplot:xlabel='Deal Cost', ylabel='VP Name'>"
      ]
     },
     "execution_count": 20,
     "metadata": {},
     "output_type": "execute_result"
    },
    {
     "data": {
      "image/png": "[encoded data removed]",
      "text/plain": [
       "<Figure size 1440x5400 with 1 Axes>"
      ]
     },
     "metadata": {
      "needs_background": "light"
     },
     "output_type": "display_data"
    }
   ],
   "source": [
    "plt.subplots(figsize=(20,75))\n",
    "sns.barplot(y = 'VP Name', x = 'Deal Cost', hue = 'Deal Status Code', data = dataset, estimator = np.mean, orient = 'h')"
   ]
  },
  {
   "cell_type": "markdown",
   "id": "cdb4f546",
   "metadata": {},
   "source": [
    "Now lets try to find the relationship between 'Client Category' and 'Deal Status Code' keeping estimator as sum."
   ]
  },
  {
   "cell_type": "code",
   "execution_count": 21,
   "id": "d340d32d",
   "metadata": {},
   "outputs": [
    {
     "data": {
      "text/plain": [
       "<AxesSubplot:xlabel='Client Category', ylabel='Deal Status Code'>"
      ]
     },
     "execution_count": 21,
     "metadata": {},
     "output_type": "execute_result"
    },
    {
     "data": {
      "image/png": "[encoded data removed]",
      "text/plain": [
       "<Figure size 5400x1440 with 1 Axes>"
      ]
     },
     "metadata": {
      "needs_background": "light"
     },
     "output_type": "display_data"
    }
   ],
   "source": [
    "plt.subplots(figsize=(75,20))\n",
    "sns.barplot(x = 'Client Category', y = 'Deal Status Code', data = dataset, estimator = np.sum)"
   ]
  },
  {
   "cell_type": "markdown",
   "id": "9819726a",
   "metadata": {},
   "source": [
    "We can see that sectors like Internal, Service based, Others and Tech are having maximum number of wins."
   ]
  },
  {
   "cell_type": "markdown",
   "id": "310a4edf",
   "metadata": {},
   "source": [
    "Now lets try to find the relationship between 'Client Category' and 'Deal Cost' keeping hue as 'Deal Status Code' and estimator as mean."
   ]
  },
  {
   "cell_type": "code",
   "execution_count": 22,
   "id": "264d68f4",
   "metadata": {
    "scrolled": true
   },
   "outputs": [
    {
     "data": {
      "text/plain": [
       "<AxesSubplot:xlabel='Client Category', ylabel='Deal Cost'>"
      ]
     },
     "execution_count": 22,
     "metadata": {},
     "output_type": "execute_result"
    },
    {
     "data": {
      "image/png": "[encoded data removed]",
      "text/plain": [
       "<Figure size 5400x1440 with 1 Axes>"
      ]
     },
     "metadata": {
      "needs_background": "light"
     },
     "output_type": "display_data"
    }
   ],
   "source": [
    "plt.subplots(figsize=(75,20))\n",
    "sns.barplot(x = 'Client Category', y = 'Deal Cost', hue = 'Deal Status Code', data = dataset, estimator = np.mean)"
   ]
  },
  {
   "cell_type": "markdown",
   "id": "4f30e203",
   "metadata": {},
   "source": [
    "From this we find that big buget wins are in Telecom, Consulting, Domestic Bank, Power ind and Holding sectors"
   ]
  },
  {
   "cell_type": "markdown",
   "id": "0ca97f65",
   "metadata": {},
   "source": [
    "Now creating a new dataset as df with required columns"
   ]
  },
  {
   "cell_type": "code",
   "execution_count": 23,
   "id": "88577b46",
   "metadata": {},
   "outputs": [
    {
     "data": {
      "text/html": [
       "<div>\n",
       "<style scoped>\n",
       "    .dataframe tbody tr th:only-of-type {\n",
       "        vertical-align: middle;\n",
       "    }\n",
       "\n",
       "    .dataframe tbody tr th {\n",
       "        vertical-align: top;\n",
       "    }\n",
       "\n",
       "    .dataframe thead th {\n",
       "        text-align: right;\n",
       "    }\n",
       "</style>\n",
       "<table border=\"1\" class=\"dataframe\">\n",
       "  <thead>\n",
       "    <tr style=\"text-align: right;\">\n",
       "      <th></th>\n",
       "      <th>Client Category</th>\n",
       "      <th>VP Name</th>\n",
       "      <th>Manager Name</th>\n",
       "      <th>Deal Cost</th>\n",
       "      <th>Deal Status Code</th>\n",
       "    </tr>\n",
       "  </thead>\n",
       "  <tbody>\n",
       "    <tr>\n",
       "      <th>2304</th>\n",
       "      <td>Healthcare</td>\n",
       "      <td>Sargar Deep Rao</td>\n",
       "      <td>Akshansh Chaudhary</td>\n",
       "      <td>235294.12</td>\n",
       "      <td>1</td>\n",
       "    </tr>\n",
       "  </tbody>\n",
       "</table>\n",
       "</div>"
      ],
      "text/plain": [
       "     Client Category          VP Name        Manager Name  Deal Cost  \\\n",
       "2304      Healthcare  Sargar Deep Rao  Akshansh Chaudhary  235294.12   \n",
       "\n",
       "      Deal Status Code  \n",
       "2304                 1  "
      ]
     },
     "execution_count": 23,
     "metadata": {},
     "output_type": "execute_result"
    }
   ],
   "source": [
    "columns = ['Client Category', 'VP Name', 'Manager Name', 'Deal Cost', 'Deal Status Code']\n",
    "df = dataset[columns]\n",
    "df.sample()"
   ]
  },
  {
   "cell_type": "markdown",
   "id": "0b95b8d4",
   "metadata": {},
   "source": [
    "As we want to find out the combination of VP and Manager with higher number of wins, we will use groupby function and store the data in df1.\n",
    "\n",
    "So grouping 'VP Name' and 'Manager Name' and accumulating them with sum of 'Deal Status Code'"
   ]
  },
  {
   "cell_type": "code",
   "execution_count": 24,
   "id": "88e34bd8",
   "metadata": {},
   "outputs": [
    {
     "data": {
      "text/plain": [
       "VP Name    Manager Name          \n",
       "Alam Syed  Abhinav Warrier            0\n",
       "           Alam Syed                  2\n",
       "           Darin Vath                17\n",
       "           Deepak Chandra Prakash     6\n",
       "           Dennis Faux                1\n",
       "Name: Deal Status Code, dtype: int32"
      ]
     },
     "execution_count": 24,
     "metadata": {},
     "output_type": "execute_result"
    }
   ],
   "source": [
    "df1 = df.groupby(['VP Name']+['Manager Name'])['Deal Status Code'].sum()\n",
    "df1.head()"
   ]
  },
  {
   "cell_type": "markdown",
   "id": "3d2b2dd4",
   "metadata": {},
   "source": [
    "After grouping we can see that each VP is combined with respective Manager based on the sum of number of wins."
   ]
  },
  {
   "cell_type": "markdown",
   "id": "165edd41",
   "metadata": {},
   "source": [
    "So reseting index by name as 'Deal Status Code_sum' and sorting values in decesnding order."
   ]
  },
  {
   "cell_type": "code",
   "execution_count": 25,
   "id": "ca37a307",
   "metadata": {},
   "outputs": [
    {
     "data": {
      "text/html": [
       "<div>\n",
       "<style scoped>\n",
       "    .dataframe tbody tr th:only-of-type {\n",
       "        vertical-align: middle;\n",
       "    }\n",
       "\n",
       "    .dataframe tbody tr th {\n",
       "        vertical-align: top;\n",
       "    }\n",
       "\n",
       "    .dataframe thead th {\n",
       "        text-align: right;\n",
       "    }\n",
       "</style>\n",
       "<table border=\"1\" class=\"dataframe\">\n",
       "  <thead>\n",
       "    <tr style=\"text-align: right;\">\n",
       "      <th></th>\n",
       "      <th>VP Name</th>\n",
       "      <th>Manager Name</th>\n",
       "      <th>Deal Status Code_sum</th>\n",
       "    </tr>\n",
       "  </thead>\n",
       "  <tbody>\n",
       "    <tr>\n",
       "      <th>369</th>\n",
       "      <td>Long Bergstrom</td>\n",
       "      <td>Russell Dahlen</td>\n",
       "      <td>75</td>\n",
       "    </tr>\n",
       "    <tr>\n",
       "      <th>597</th>\n",
       "      <td>Rahul Bajpai</td>\n",
       "      <td>Rudraksh Sharma</td>\n",
       "      <td>72</td>\n",
       "    </tr>\n",
       "    <tr>\n",
       "      <th>904</th>\n",
       "      <td>neeraj kumar</td>\n",
       "      <td>Molly Eakes</td>\n",
       "      <td>62</td>\n",
       "    </tr>\n",
       "    <tr>\n",
       "      <th>38</th>\n",
       "      <td>Ankita Aggarwal</td>\n",
       "      <td>Desmond Krout</td>\n",
       "      <td>53</td>\n",
       "    </tr>\n",
       "    <tr>\n",
       "      <th>914</th>\n",
       "      <td>neeraj kumar</td>\n",
       "      <td>Vinay Kumar</td>\n",
       "      <td>51</td>\n",
       "    </tr>\n",
       "    <tr>\n",
       "      <th>348</th>\n",
       "      <td>Long Bergstrom</td>\n",
       "      <td>Jewell Tunstall</td>\n",
       "      <td>46</td>\n",
       "    </tr>\n",
       "    <tr>\n",
       "      <th>350</th>\n",
       "      <td>Long Bergstrom</td>\n",
       "      <td>Karna Bhuvennant</td>\n",
       "      <td>46</td>\n",
       "    </tr>\n",
       "    <tr>\n",
       "      <th>738</th>\n",
       "      <td>Sargar Deep Rao</td>\n",
       "      <td>Manpreet Singh</td>\n",
       "      <td>42</td>\n",
       "    </tr>\n",
       "    <tr>\n",
       "      <th>164</th>\n",
       "      <td>Ekta Zutshi</td>\n",
       "      <td>Jean Sappington</td>\n",
       "      <td>40</td>\n",
       "    </tr>\n",
       "    <tr>\n",
       "      <th>194</th>\n",
       "      <td>Ekta Zutshi</td>\n",
       "      <td>neeraj kumar</td>\n",
       "      <td>40</td>\n",
       "    </tr>\n",
       "  </tbody>\n",
       "</table>\n",
       "</div>"
      ],
      "text/plain": [
       "             VP Name      Manager Name  Deal Status Code_sum\n",
       "369   Long Bergstrom    Russell Dahlen                    75\n",
       "597     Rahul Bajpai   Rudraksh Sharma                    72\n",
       "904     neeraj kumar       Molly Eakes                    62\n",
       "38   Ankita Aggarwal     Desmond Krout                    53\n",
       "914     neeraj kumar       Vinay Kumar                    51\n",
       "348   Long Bergstrom   Jewell Tunstall                    46\n",
       "350   Long Bergstrom  Karna Bhuvennant                    46\n",
       "738  Sargar Deep Rao    Manpreet Singh                    42\n",
       "164      Ekta Zutshi   Jean Sappington                    40\n",
       "194      Ekta Zutshi      neeraj kumar                    40"
      ]
     },
     "execution_count": 25,
     "metadata": {},
     "output_type": "execute_result"
    }
   ],
   "source": [
    "df1 = df1.reset_index(name='Deal Status Code_sum')\n",
    "df1 = df1.sort_values(by = 'Deal Status Code_sum', ascending=False)\n",
    "df1.head(10)"
   ]
  },
  {
   "cell_type": "markdown",
   "id": "40a5af2a",
   "metadata": {},
   "source": [
    "This is the list of top 10 successful pair or combination of VP's and Manger's."
   ]
  },
  {
   "cell_type": "markdown",
   "id": "2bfd1e54",
   "metadata": {},
   "source": [
    "Same way successful VP and Manager can be found out with respect to Client Category"
   ]
  },
  {
   "cell_type": "code",
   "execution_count": 26,
   "id": "75a0c368",
   "metadata": {},
   "outputs": [
    {
     "data": {
      "text/html": [
       "<div>\n",
       "<style scoped>\n",
       "    .dataframe tbody tr th:only-of-type {\n",
       "        vertical-align: middle;\n",
       "    }\n",
       "\n",
       "    .dataframe tbody tr th {\n",
       "        vertical-align: top;\n",
       "    }\n",
       "\n",
       "    .dataframe thead th {\n",
       "        text-align: right;\n",
       "    }\n",
       "</style>\n",
       "<table border=\"1\" class=\"dataframe\">\n",
       "  <thead>\n",
       "    <tr style=\"text-align: right;\">\n",
       "      <th></th>\n",
       "      <th>Client Category</th>\n",
       "      <th>VP Name</th>\n",
       "      <th>Manager Name</th>\n",
       "      <th>Deal Cost</th>\n",
       "      <th>Deal Status Code</th>\n",
       "    </tr>\n",
       "  </thead>\n",
       "  <tbody>\n",
       "    <tr>\n",
       "      <th>7184</th>\n",
       "      <td>Consumer Good</td>\n",
       "      <td>Rahul Bajpai</td>\n",
       "      <td>Vidur Hukle</td>\n",
       "      <td>382352.94</td>\n",
       "      <td>1</td>\n",
       "    </tr>\n",
       "  </tbody>\n",
       "</table>\n",
       "</div>"
      ],
      "text/plain": [
       "     Client Category       VP Name Manager Name  Deal Cost  Deal Status Code\n",
       "7184   Consumer Good  Rahul Bajpai  Vidur Hukle  382352.94                 1"
      ]
     },
     "execution_count": 26,
     "metadata": {},
     "output_type": "execute_result"
    }
   ],
   "source": [
    "columns = ['Client Category', 'VP Name', 'Manager Name', 'Deal Cost', 'Deal Status Code']\n",
    "df2 = dataset[columns]\n",
    "df2.sample()"
   ]
  },
  {
   "cell_type": "code",
   "execution_count": 27,
   "id": "47f5b7b5",
   "metadata": {},
   "outputs": [
    {
     "data": {
      "text/plain": [
       "Client Category  VP Name          Manager Name     \n",
       "Airpline         Ankita Aggarwal  Desmond Krout        0\n",
       "                                  Manish Saundriyal    0\n",
       "                                  shyam kumar          1\n",
       "                 Brendon Wycoff   Chloe Beiler         0\n",
       "                                  Rajneesh Tanwar      0\n",
       "Name: Deal Status Code, dtype: int32"
      ]
     },
     "execution_count": 27,
     "metadata": {},
     "output_type": "execute_result"
    }
   ],
   "source": [
    "df2 = df2.groupby(['Client Category']+['VP Name']+['Manager Name'])['Deal Status Code'].sum()\n",
    "df2.head()"
   ]
  },
  {
   "cell_type": "code",
   "execution_count": 28,
   "id": "c68aa045",
   "metadata": {},
   "outputs": [
    {
     "data": {
      "text/html": [
       "<div>\n",
       "<style scoped>\n",
       "    .dataframe tbody tr th:only-of-type {\n",
       "        vertical-align: middle;\n",
       "    }\n",
       "\n",
       "    .dataframe tbody tr th {\n",
       "        vertical-align: top;\n",
       "    }\n",
       "\n",
       "    .dataframe thead th {\n",
       "        text-align: right;\n",
       "    }\n",
       "</style>\n",
       "<table border=\"1\" class=\"dataframe\">\n",
       "  <thead>\n",
       "    <tr style=\"text-align: right;\">\n",
       "      <th></th>\n",
       "      <th>Client Category</th>\n",
       "      <th>VP Name</th>\n",
       "      <th>Manager Name</th>\n",
       "      <th>Deal Status Code_sum</th>\n",
       "    </tr>\n",
       "  </thead>\n",
       "  <tbody>\n",
       "    <tr>\n",
       "      <th>1738</th>\n",
       "      <td>Others</td>\n",
       "      <td>Long Bergstrom</td>\n",
       "      <td>Karna Bhuvennant</td>\n",
       "      <td>31</td>\n",
       "    </tr>\n",
       "    <tr>\n",
       "      <th>106</th>\n",
       "      <td>Consulting</td>\n",
       "      <td>Ekta Zutshi</td>\n",
       "      <td>neeraj kumar</td>\n",
       "      <td>30</td>\n",
       "    </tr>\n",
       "    <tr>\n",
       "      <th>1000</th>\n",
       "      <td>Internal</td>\n",
       "      <td>Ankita Aggarwal</td>\n",
       "      <td>Desmond Krout</td>\n",
       "      <td>29</td>\n",
       "    </tr>\n",
       "    <tr>\n",
       "      <th>2728</th>\n",
       "      <td>Tech</td>\n",
       "      <td>Rahul Bajpai</td>\n",
       "      <td>Rudraksh Sharma</td>\n",
       "      <td>28</td>\n",
       "    </tr>\n",
       "    <tr>\n",
       "      <th>2880</th>\n",
       "      <td>Telecom</td>\n",
       "      <td>Rahul Bajpai</td>\n",
       "      <td>Abhiskek Kumar</td>\n",
       "      <td>27</td>\n",
       "    </tr>\n",
       "    <tr>\n",
       "      <th>1655</th>\n",
       "      <td>Others</td>\n",
       "      <td>Ekta Zutshi</td>\n",
       "      <td>Gayle Molter</td>\n",
       "      <td>26</td>\n",
       "    </tr>\n",
       "    <tr>\n",
       "      <th>2376</th>\n",
       "      <td>Services_based</td>\n",
       "      <td>Long Bergstrom</td>\n",
       "      <td>Russell Dahlen</td>\n",
       "      <td>24</td>\n",
       "    </tr>\n",
       "    <tr>\n",
       "      <th>1020</th>\n",
       "      <td>Internal</td>\n",
       "      <td>Ankita Aggarwal</td>\n",
       "      <td>rohit</td>\n",
       "      <td>24</td>\n",
       "    </tr>\n",
       "    <tr>\n",
       "      <th>2374</th>\n",
       "      <td>Services_based</td>\n",
       "      <td>Long Bergstrom</td>\n",
       "      <td>Rayford Durgan</td>\n",
       "      <td>23</td>\n",
       "    </tr>\n",
       "    <tr>\n",
       "      <th>1373</th>\n",
       "      <td>International Bank</td>\n",
       "      <td>Long Bergstrom</td>\n",
       "      <td>Russell Dahlen</td>\n",
       "      <td>23</td>\n",
       "    </tr>\n",
       "  </tbody>\n",
       "</table>\n",
       "</div>"
      ],
      "text/plain": [
       "         Client Category          VP Name      Manager Name  \\\n",
       "1738              Others   Long Bergstrom  Karna Bhuvennant   \n",
       "106           Consulting      Ekta Zutshi      neeraj kumar   \n",
       "1000            Internal  Ankita Aggarwal     Desmond Krout   \n",
       "2728                Tech     Rahul Bajpai   Rudraksh Sharma   \n",
       "2880             Telecom     Rahul Bajpai    Abhiskek Kumar   \n",
       "1655              Others      Ekta Zutshi      Gayle Molter   \n",
       "2376      Services_based   Long Bergstrom    Russell Dahlen   \n",
       "1020            Internal  Ankita Aggarwal             rohit   \n",
       "2374      Services_based   Long Bergstrom    Rayford Durgan   \n",
       "1373  International Bank   Long Bergstrom    Russell Dahlen   \n",
       "\n",
       "      Deal Status Code_sum  \n",
       "1738                    31  \n",
       "106                     30  \n",
       "1000                    29  \n",
       "2728                    28  \n",
       "2880                    27  \n",
       "1655                    26  \n",
       "2376                    24  \n",
       "1020                    24  \n",
       "2374                    23  \n",
       "1373                    23  "
      ]
     },
     "execution_count": 28,
     "metadata": {},
     "output_type": "execute_result"
    }
   ],
   "source": [
    "df2 = df2.reset_index(name='Deal Status Code_sum')\n",
    "df2 = df2.sort_values(by = ['Deal Status Code_sum','Client Category'], ascending=[False, False])\n",
    "df2.head(10)"
   ]
  },
  {
   "cell_type": "markdown",
   "id": "6d3612e6",
   "metadata": {},
   "source": [
    "So this is the list of top 10 pair of VPs and Managers with respect to Client Category"
   ]
  },
  {
   "cell_type": "markdown",
   "id": "5ad1f9bc",
   "metadata": {},
   "source": [
    "Also the particular category of Client can be listed as follows,"
   ]
  },
  {
   "cell_type": "code",
   "execution_count": 29,
   "id": "22aaeff2",
   "metadata": {},
   "outputs": [],
   "source": [
    "df2 = df2.set_index('Client Category')"
   ]
  },
  {
   "cell_type": "code",
   "execution_count": 30,
   "id": "11bc9c78",
   "metadata": {},
   "outputs": [
    {
     "name": "stdout",
     "output_type": "stream",
     "text": [
      "                         VP Name       Manager Name  Deal Status Code_sum\n",
      "Client Category                                                          \n",
      "Others            Long Bergstrom   Karna Bhuvennant                    31\n",
      "Others               Ekta Zutshi       Gayle Molter                    26\n",
      "Others            Long Bergstrom    Jewell Tunstall                    17\n",
      "Others              Rahul Bajpai    Rudraksh Sharma                    16\n",
      "Others           Sargar Deep Rao       Tanuj Bindra                    15\n",
      "...                          ...                ...                   ...\n",
      "Others                  som dutt    Jean Sappington                     0\n",
      "Others                  som dutt    Jewell Tunstall                     0\n",
      "Others                  som dutt  Manish Saundriyal                     0\n",
      "Others                  som dutt     Russell Dahlen                     0\n",
      "Others                  som dutt       mohd khairul                     0\n",
      "\n",
      "[397 rows x 3 columns] \n",
      "\n",
      "\n",
      "                        VP Name         Manager Name  Deal Status Code_sum\n",
      "Client Category                                                          \n",
      "Consulting         Ekta Zutshi         neeraj kumar                    30\n",
      "Consulting        neeraj kumar          Molly Eakes                    18\n",
      "Consulting        neeraj kumar          Vinay Kumar                    11\n",
      "Consulting         Ekta Zutshi   Jitendra Choudhary                     9\n",
      "Consulting         Ekta Zutshi      Chanchal sharma                     7\n",
      "...                        ...                  ...                   ...\n",
      "Consulting       Saurabh Singh  Kamelesh Srinivasan                     0\n",
      "Consulting       Saurabh Singh                rohit                     0\n",
      "Consulting        neeraj kumar           Atul Kumar                     0\n",
      "Consulting        neeraj kumar        Kizzie Troxel                     0\n",
      "Consulting        neeraj kumar        mohd ataullah                     0\n",
      "\n",
      "[100 rows x 3 columns]\n"
     ]
    }
   ],
   "source": [
    "first = df2.loc['Others']\n",
    "second = df2.loc['Consulting']\n",
    "\n",
    "print(first, \"\\n\\n\\n\", second)"
   ]
  },
  {
   "cell_type": "markdown",
   "id": "aac6499e",
   "metadata": {},
   "source": [
    "Same way successful VP and Manager can be found out with respect to Client Category and Deal Cost"
   ]
  },
  {
   "cell_type": "code",
   "execution_count": 31,
   "id": "f19a8976",
   "metadata": {},
   "outputs": [
    {
     "data": {
      "text/html": [
       "<div>\n",
       "<style scoped>\n",
       "    .dataframe tbody tr th:only-of-type {\n",
       "        vertical-align: middle;\n",
       "    }\n",
       "\n",
       "    .dataframe tbody tr th {\n",
       "        vertical-align: top;\n",
       "    }\n",
       "\n",
       "    .dataframe thead th {\n",
       "        text-align: right;\n",
       "    }\n",
       "</style>\n",
       "<table border=\"1\" class=\"dataframe\">\n",
       "  <thead>\n",
       "    <tr style=\"text-align: right;\">\n",
       "      <th></th>\n",
       "      <th>Client Category</th>\n",
       "      <th>VP Name</th>\n",
       "      <th>Manager Name</th>\n",
       "      <th>Deal Cost</th>\n",
       "      <th>Deal Status Code</th>\n",
       "    </tr>\n",
       "  </thead>\n",
       "  <tbody>\n",
       "    <tr>\n",
       "      <th>5287</th>\n",
       "      <td>Services_based</td>\n",
       "      <td>Brendon Wycoff</td>\n",
       "      <td>Mannan Upadhiya</td>\n",
       "      <td>302941.18</td>\n",
       "      <td>0</td>\n",
       "    </tr>\n",
       "  </tbody>\n",
       "</table>\n",
       "</div>"
      ],
      "text/plain": [
       "     Client Category         VP Name     Manager Name  Deal Cost  \\\n",
       "5287  Services_based  Brendon Wycoff  Mannan Upadhiya  302941.18   \n",
       "\n",
       "      Deal Status Code  \n",
       "5287                 0  "
      ]
     },
     "execution_count": 31,
     "metadata": {},
     "output_type": "execute_result"
    }
   ],
   "source": [
    "columns = ['Client Category', 'VP Name', 'Manager Name', 'Deal Cost', 'Deal Status Code']\n",
    "df3 = dataset[columns]\n",
    "df3.sample()"
   ]
  },
  {
   "cell_type": "code",
   "execution_count": 32,
   "id": "74d5859b",
   "metadata": {},
   "outputs": [
    {
     "data": {
      "text/plain": [
       "Client Category  VP Name          Manager Name       Deal Cost\n",
       "Airpline         Ankita Aggarwal  Desmond Krout      1470.59      0\n",
       "                                  Manish Saundriyal  294117.65    0\n",
       "                                  shyam kumar        77941.18     1\n",
       "                 Brendon Wycoff   Chloe Beiler       882352.94    0\n",
       "                                  Rajneesh Tanwar    1470.59      0\n",
       "Name: Deal Status Code, dtype: int32"
      ]
     },
     "execution_count": 32,
     "metadata": {},
     "output_type": "execute_result"
    }
   ],
   "source": [
    "df3 = df3.groupby(['Client Category']+['VP Name']+['Manager Name']+['Deal Cost'])['Deal Status Code'].sum()\n",
    "df3.head()"
   ]
  },
  {
   "cell_type": "code",
   "execution_count": 33,
   "id": "e235cba6",
   "metadata": {},
   "outputs": [
    {
     "data": {
      "text/html": [
       "<div>\n",
       "<style scoped>\n",
       "    .dataframe tbody tr th:only-of-type {\n",
       "        vertical-align: middle;\n",
       "    }\n",
       "\n",
       "    .dataframe tbody tr th {\n",
       "        vertical-align: top;\n",
       "    }\n",
       "\n",
       "    .dataframe thead th {\n",
       "        text-align: right;\n",
       "    }\n",
       "</style>\n",
       "<table border=\"1\" class=\"dataframe\">\n",
       "  <thead>\n",
       "    <tr style=\"text-align: right;\">\n",
       "      <th></th>\n",
       "      <th>Client Category</th>\n",
       "      <th>VP Name</th>\n",
       "      <th>Manager Name</th>\n",
       "      <th>Deal Cost</th>\n",
       "      <th>Deal Status Code_sum</th>\n",
       "    </tr>\n",
       "  </thead>\n",
       "  <tbody>\n",
       "    <tr>\n",
       "      <th>3221</th>\n",
       "      <td>Management</td>\n",
       "      <td>Russell Dahlen</td>\n",
       "      <td>Martin Cheyne</td>\n",
       "      <td>11764.71</td>\n",
       "      <td>6</td>\n",
       "    </tr>\n",
       "    <tr>\n",
       "      <th>3213</th>\n",
       "      <td>Management</td>\n",
       "      <td>Mervin Harwood</td>\n",
       "      <td>Karna Bhuvennant</td>\n",
       "      <td>7352.94</td>\n",
       "      <td>5</td>\n",
       "    </tr>\n",
       "    <tr>\n",
       "      <th>3792</th>\n",
       "      <td>Others</td>\n",
       "      <td>Long Bergstrom</td>\n",
       "      <td>Karna Bhuvennant</td>\n",
       "      <td>147058.82</td>\n",
       "      <td>5</td>\n",
       "    </tr>\n",
       "    <tr>\n",
       "      <th>6374</th>\n",
       "      <td>Telecom</td>\n",
       "      <td>Rahul Bajpai</td>\n",
       "      <td>Abhiskek Kumar</td>\n",
       "      <td>176470.59</td>\n",
       "      <td>4</td>\n",
       "    </tr>\n",
       "    <tr>\n",
       "      <th>68</th>\n",
       "      <td>Automobiles</td>\n",
       "      <td>Mangesh K. Singh</td>\n",
       "      <td>Kamelesh Srinivasan</td>\n",
       "      <td>294117.65</td>\n",
       "      <td>4</td>\n",
       "    </tr>\n",
       "    <tr>\n",
       "      <th>3798</th>\n",
       "      <td>Others</td>\n",
       "      <td>Long Bergstrom</td>\n",
       "      <td>Karna Bhuvennant</td>\n",
       "      <td>294117.65</td>\n",
       "      <td>4</td>\n",
       "    </tr>\n",
       "    <tr>\n",
       "      <th>2034</th>\n",
       "      <td>Internal</td>\n",
       "      <td>Ankita Aggarwal</td>\n",
       "      <td>rohit</td>\n",
       "      <td>102941.18</td>\n",
       "      <td>4</td>\n",
       "    </tr>\n",
       "    <tr>\n",
       "      <th>5981</th>\n",
       "      <td>Tech</td>\n",
       "      <td>Rahul Bajpai</td>\n",
       "      <td>Rudraksh Sharma</td>\n",
       "      <td>198529.41</td>\n",
       "      <td>4</td>\n",
       "    </tr>\n",
       "    <tr>\n",
       "      <th>3000</th>\n",
       "      <td>International Bank</td>\n",
       "      <td>Long Bergstrom</td>\n",
       "      <td>Luv Malhotra</td>\n",
       "      <td>352941.18</td>\n",
       "      <td>3</td>\n",
       "    </tr>\n",
       "    <tr>\n",
       "      <th>3641</th>\n",
       "      <td>Others</td>\n",
       "      <td>Gayle Molter</td>\n",
       "      <td>Rayford Durgan</td>\n",
       "      <td>441176.47</td>\n",
       "      <td>3</td>\n",
       "    </tr>\n",
       "  </tbody>\n",
       "</table>\n",
       "</div>"
      ],
      "text/plain": [
       "         Client Category           VP Name         Manager Name  Deal Cost  \\\n",
       "3221          Management    Russell Dahlen        Martin Cheyne   11764.71   \n",
       "3213          Management    Mervin Harwood     Karna Bhuvennant    7352.94   \n",
       "3792              Others    Long Bergstrom     Karna Bhuvennant  147058.82   \n",
       "6374             Telecom      Rahul Bajpai       Abhiskek Kumar  176470.59   \n",
       "68           Automobiles  Mangesh K. Singh  Kamelesh Srinivasan  294117.65   \n",
       "3798              Others    Long Bergstrom     Karna Bhuvennant  294117.65   \n",
       "2034            Internal   Ankita Aggarwal                rohit  102941.18   \n",
       "5981                Tech      Rahul Bajpai      Rudraksh Sharma  198529.41   \n",
       "3000  International Bank    Long Bergstrom         Luv Malhotra  352941.18   \n",
       "3641              Others      Gayle Molter       Rayford Durgan  441176.47   \n",
       "\n",
       "      Deal Status Code_sum  \n",
       "3221                     6  \n",
       "3213                     5  \n",
       "3792                     5  \n",
       "6374                     4  \n",
       "68                       4  \n",
       "3798                     4  \n",
       "2034                     4  \n",
       "5981                     4  \n",
       "3000                     3  \n",
       "3641                     3  "
      ]
     },
     "execution_count": 33,
     "metadata": {},
     "output_type": "execute_result"
    }
   ],
   "source": [
    "df3 = df3.reset_index(name='Deal Status Code_sum')\n",
    "df3 = df3.sort_values(by = ['Deal Status Code_sum'], ascending=False)\n",
    "df3.head(10)"
   ]
  },
  {
   "cell_type": "markdown",
   "id": "a9bcbc41",
   "metadata": {},
   "source": [
    "So for a particular VP its associated manager for a particular client can be listed as,"
   ]
  },
  {
   "cell_type": "code",
   "execution_count": 34,
   "id": "fb570324",
   "metadata": {},
   "outputs": [
    {
     "name": "stdout",
     "output_type": "stream",
     "text": [
      "                   Client Category      Manager Name   Deal Cost  \\\n",
      "VP Name                                                            \n",
      "Ankita Aggarwal           Internal             rohit   102941.18   \n",
      "Ankita Aggarwal           Internal             rohit    58823.53   \n",
      "Ankita Aggarwal           Internal     Desmond Krout   529411.77   \n",
      "Ankita Aggarwal             Others  Florencio Quiros   198529.41   \n",
      "Ankita Aggarwal             Others    Fredricka Bald   117647.06   \n",
      "...                            ...               ...         ...   \n",
      "Ankita Aggarwal  International Org             rohit   588235.29   \n",
      "Ankita Aggarwal  International Org    Manisha Gulati  1000000.00   \n",
      "Ankita Aggarwal  International Org       Akul Jindal    73529.41   \n",
      "Ankita Aggarwal  International Org     Desmond Krout   558823.53   \n",
      "Ankita Aggarwal  International Org  Florencio Quiros  2941176.47   \n",
      "\n",
      "                 Deal Status Code_sum  \n",
      "VP Name                                \n",
      "Ankita Aggarwal                     4  \n",
      "Ankita Aggarwal                     3  \n",
      "Ankita Aggarwal                     2  \n",
      "Ankita Aggarwal                     2  \n",
      "Ankita Aggarwal                     2  \n",
      "...                               ...  \n",
      "Ankita Aggarwal                     0  \n",
      "Ankita Aggarwal                     0  \n",
      "Ankita Aggarwal                     0  \n",
      "Ankita Aggarwal                     0  \n",
      "Ankita Aggarwal                     0  \n",
      "\n",
      "[651 rows x 4 columns] \n",
      "\n",
      "\n",
      "                 Client Category      Manager Name   Deal Cost  \\\n",
      "VP Name                                                         \n",
      "Ekta Zutshi      Services_based   Jean Sappington   411764.71   \n",
      "Ekta Zutshi      Services_based   Jean Sappington   323529.41   \n",
      "Ekta Zutshi              Others    Rayford Durgan   205882.35   \n",
      "Ekta Zutshi          Consulting      neeraj kumar  1058823.53   \n",
      "Ekta Zutshi      Services_based    Manpreet Singh   500000.00   \n",
      "...                         ...               ...         ...   \n",
      "Ekta Zutshi  International Bank  Roopal Chaudhary   147058.82   \n",
      "Ekta Zutshi  International Bank  Roopal Chaudhary   294117.65   \n",
      "Ekta Zutshi  International Bank   Rudraksh Sharma  1617647.06   \n",
      "Ekta Zutshi           Knowledge   Abhinav Warrier   517647.06   \n",
      "Ekta Zutshi           Knowledge   Rudraksh Sharma   235294.12   \n",
      "\n",
      "             Deal Status Code_sum  \n",
      "VP Name                            \n",
      "Ekta Zutshi                     2  \n",
      "Ekta Zutshi                     2  \n",
      "Ekta Zutshi                     2  \n",
      "Ekta Zutshi                     2  \n",
      "Ekta Zutshi                     2  \n",
      "...                           ...  \n",
      "Ekta Zutshi                     0  \n",
      "Ekta Zutshi                     0  \n",
      "Ekta Zutshi                     0  \n",
      "Ekta Zutshi                     0  \n",
      "Ekta Zutshi                     0  \n",
      "\n",
      "[419 rows x 4 columns]\n"
     ]
    }
   ],
   "source": [
    "df3 = df3.set_index('VP Name')\n",
    "fst = df3.loc['Ankita Aggarwal']\n",
    "snd = df3.loc['Ekta Zutshi']\n",
    "\n",
    "print(fst, \"\\n\\n\\n\", snd)"
   ]
  },
  {
   "cell_type": "markdown",
   "id": "f69742be",
   "metadata": {},
   "source": [
    "From this we can see that Ankita Aggarwal has won 4 number of bids with Rohit for Ciemt category - Internal having deal cost of 102941.18"
   ]
  },
  {
   "cell_type": "markdown",
   "id": "27a611bd",
   "metadata": {},
   "source": [
    "Now analyzing Managers associated with Ekta Zutshi"
   ]
  },
  {
   "cell_type": "code",
   "execution_count": 35,
   "id": "2dee9b74",
   "metadata": {},
   "outputs": [
    {
     "data": {
      "text/plain": [
       "<AxesSubplot:xlabel='Manager Name', ylabel='Deal Status Code_sum'>"
      ]
     },
     "execution_count": 35,
     "metadata": {},
     "output_type": "execute_result"
    },
    {
     "data": {
      "image/png": "[encoded data removed]",
      "text/plain": [
       "<Figure size 5400x1440 with 1 Axes>"
      ]
     },
     "metadata": {
      "needs_background": "light"
     },
     "output_type": "display_data"
    }
   ],
   "source": [
    "plt.subplots(figsize=(75,20))\n",
    "plt.xticks(rotation=90)\n",
    "sns.barplot(x = 'Manager Name', y = 'Deal Status Code_sum', data = snd, estimator = np.sum)"
   ]
  },
  {
   "cell_type": "markdown",
   "id": "d1481e05",
   "metadata": {},
   "source": [
    "Now for further ease lets store categorical variables in X, output variable in y and numerical variable in z."
   ]
  },
  {
   "cell_type": "code",
   "execution_count": 36,
   "id": "18cb4046",
   "metadata": {},
   "outputs": [],
   "source": [
    "cols1 = ['Client Category', 'VP Name', 'Manager Name']\n",
    "cols2 = ['Deal Status Code']\n",
    "cols3 = ['Deal Cost']\n",
    "X = dataset[cols1]\n",
    "y = dataset[cols2]\n",
    "z = dataset[cols3]"
   ]
  },
  {
   "cell_type": "code",
   "execution_count": 37,
   "id": "62d22ecf",
   "metadata": {},
   "outputs": [
    {
     "data": {
      "text/html": [
       "<div>\n",
       "<style scoped>\n",
       "    .dataframe tbody tr th:only-of-type {\n",
       "        vertical-align: middle;\n",
       "    }\n",
       "\n",
       "    .dataframe tbody tr th {\n",
       "        vertical-align: top;\n",
       "    }\n",
       "\n",
       "    .dataframe thead th {\n",
       "        text-align: right;\n",
       "    }\n",
       "</style>\n",
       "<table border=\"1\" class=\"dataframe\">\n",
       "  <thead>\n",
       "    <tr style=\"text-align: right;\">\n",
       "      <th></th>\n",
       "      <th>Client Category</th>\n",
       "      <th>VP Name</th>\n",
       "      <th>Manager Name</th>\n",
       "    </tr>\n",
       "  </thead>\n",
       "  <tbody>\n",
       "    <tr>\n",
       "      <th>0</th>\n",
       "      <td>Telecom</td>\n",
       "      <td>Ekta Zutshi</td>\n",
       "      <td>Gopa Trilochana</td>\n",
       "    </tr>\n",
       "    <tr>\n",
       "      <th>1</th>\n",
       "      <td>Telecom</td>\n",
       "      <td>Ekta Zutshi</td>\n",
       "      <td>Gopa Trilochana</td>\n",
       "    </tr>\n",
       "    <tr>\n",
       "      <th>2</th>\n",
       "      <td>Internal</td>\n",
       "      <td>Ekta Zutshi</td>\n",
       "      <td>Russell Dahlen</td>\n",
       "    </tr>\n",
       "    <tr>\n",
       "      <th>3</th>\n",
       "      <td>Internal</td>\n",
       "      <td>Ekta Zutshi</td>\n",
       "      <td>Russell Dahlen</td>\n",
       "    </tr>\n",
       "    <tr>\n",
       "      <th>4</th>\n",
       "      <td>Internal</td>\n",
       "      <td>Ekta Zutshi</td>\n",
       "      <td>Russell Dahlen</td>\n",
       "    </tr>\n",
       "  </tbody>\n",
       "</table>\n",
       "</div>"
      ],
      "text/plain": [
       "  Client Category      VP Name     Manager Name\n",
       "0         Telecom  Ekta Zutshi  Gopa Trilochana\n",
       "1         Telecom  Ekta Zutshi  Gopa Trilochana\n",
       "2        Internal  Ekta Zutshi   Russell Dahlen\n",
       "3        Internal  Ekta Zutshi   Russell Dahlen\n",
       "4        Internal  Ekta Zutshi   Russell Dahlen"
      ]
     },
     "execution_count": 37,
     "metadata": {},
     "output_type": "execute_result"
    }
   ],
   "source": [
    "X.head()"
   ]
  },
  {
   "cell_type": "code",
   "execution_count": 38,
   "id": "40cae032",
   "metadata": {},
   "outputs": [
    {
     "data": {
      "text/html": [
       "<div>\n",
       "<style scoped>\n",
       "    .dataframe tbody tr th:only-of-type {\n",
       "        vertical-align: middle;\n",
       "    }\n",
       "\n",
       "    .dataframe tbody tr th {\n",
       "        vertical-align: top;\n",
       "    }\n",
       "\n",
       "    .dataframe thead th {\n",
       "        text-align: right;\n",
       "    }\n",
       "</style>\n",
       "<table border=\"1\" class=\"dataframe\">\n",
       "  <thead>\n",
       "    <tr style=\"text-align: right;\">\n",
       "      <th></th>\n",
       "      <th>Deal Status Code</th>\n",
       "    </tr>\n",
       "  </thead>\n",
       "  <tbody>\n",
       "    <tr>\n",
       "      <th>0</th>\n",
       "      <td>1</td>\n",
       "    </tr>\n",
       "    <tr>\n",
       "      <th>1</th>\n",
       "      <td>1</td>\n",
       "    </tr>\n",
       "    <tr>\n",
       "      <th>2</th>\n",
       "      <td>0</td>\n",
       "    </tr>\n",
       "    <tr>\n",
       "      <th>3</th>\n",
       "      <td>0</td>\n",
       "    </tr>\n",
       "    <tr>\n",
       "      <th>4</th>\n",
       "      <td>0</td>\n",
       "    </tr>\n",
       "  </tbody>\n",
       "</table>\n",
       "</div>"
      ],
      "text/plain": [
       "   Deal Status Code\n",
       "0                 1\n",
       "1                 1\n",
       "2                 0\n",
       "3                 0\n",
       "4                 0"
      ]
     },
     "execution_count": 38,
     "metadata": {},
     "output_type": "execute_result"
    }
   ],
   "source": [
    "y.head()"
   ]
  },
  {
   "cell_type": "markdown",
   "id": "2981fb9c",
   "metadata": {},
   "source": [
    "Using One Hot Encoder for categorical features in X and storing them in X1"
   ]
  },
  {
   "cell_type": "code",
   "execution_count": 39,
   "id": "b4282d14",
   "metadata": {},
   "outputs": [
    {
     "data": {
      "text/html": [
       "<div>\n",
       "<style scoped>\n",
       "    .dataframe tbody tr th:only-of-type {\n",
       "        vertical-align: middle;\n",
       "    }\n",
       "\n",
       "    .dataframe tbody tr th {\n",
       "        vertical-align: top;\n",
       "    }\n",
       "\n",
       "    .dataframe thead th {\n",
       "        text-align: right;\n",
       "    }\n",
       "</style>\n",
       "<table border=\"1\" class=\"dataframe\">\n",
       "  <thead>\n",
       "    <tr style=\"text-align: right;\">\n",
       "      <th></th>\n",
       "      <th>x0_Automobiles</th>\n",
       "      <th>x0_Consulting</th>\n",
       "      <th>x0_Consumer Good</th>\n",
       "      <th>x0_Domestic Bank</th>\n",
       "      <th>x0_Domestic Private Bank</th>\n",
       "      <th>x0_Domestic Public Bank</th>\n",
       "      <th>x0_Electronics</th>\n",
       "      <th>x0_Energy</th>\n",
       "      <th>x0_Energy</th>\n",
       "      <th>x0_Finance</th>\n",
       "      <th>...</th>\n",
       "      <th>x2_shafibul</th>\n",
       "      <th>x2_sharat chandran</th>\n",
       "      <th>x2_sheak shakir</th>\n",
       "      <th>x2_shiv kumar</th>\n",
       "      <th>x2_shiv shakti singh</th>\n",
       "      <th>x2_shyam kumar</th>\n",
       "      <th>x2_som dutt</th>\n",
       "      <th>x2_sunder paal</th>\n",
       "      <th>x2_vansu dev</th>\n",
       "      <th>x2_vinit katariya</th>\n",
       "    </tr>\n",
       "  </thead>\n",
       "  <tbody>\n",
       "    <tr>\n",
       "      <th>0</th>\n",
       "      <td>0.0</td>\n",
       "      <td>0.0</td>\n",
       "      <td>0.0</td>\n",
       "      <td>0.0</td>\n",
       "      <td>0.0</td>\n",
       "      <td>0.0</td>\n",
       "      <td>0.0</td>\n",
       "      <td>0.0</td>\n",
       "      <td>0.0</td>\n",
       "      <td>0.0</td>\n",
       "      <td>...</td>\n",
       "      <td>0.0</td>\n",
       "      <td>0.0</td>\n",
       "      <td>0.0</td>\n",
       "      <td>0.0</td>\n",
       "      <td>0.0</td>\n",
       "      <td>0.0</td>\n",
       "      <td>0.0</td>\n",
       "      <td>0.0</td>\n",
       "      <td>0.0</td>\n",
       "      <td>0.0</td>\n",
       "    </tr>\n",
       "    <tr>\n",
       "      <th>1</th>\n",
       "      <td>0.0</td>\n",
       "      <td>0.0</td>\n",
       "      <td>0.0</td>\n",
       "      <td>0.0</td>\n",
       "      <td>0.0</td>\n",
       "      <td>0.0</td>\n",
       "      <td>0.0</td>\n",
       "      <td>0.0</td>\n",
       "      <td>0.0</td>\n",
       "      <td>0.0</td>\n",
       "      <td>...</td>\n",
       "      <td>0.0</td>\n",
       "      <td>0.0</td>\n",
       "      <td>0.0</td>\n",
       "      <td>0.0</td>\n",
       "      <td>0.0</td>\n",
       "      <td>0.0</td>\n",
       "      <td>0.0</td>\n",
       "      <td>0.0</td>\n",
       "      <td>0.0</td>\n",
       "      <td>0.0</td>\n",
       "    </tr>\n",
       "    <tr>\n",
       "      <th>2</th>\n",
       "      <td>0.0</td>\n",
       "      <td>0.0</td>\n",
       "      <td>0.0</td>\n",
       "      <td>0.0</td>\n",
       "      <td>0.0</td>\n",
       "      <td>0.0</td>\n",
       "      <td>0.0</td>\n",
       "      <td>0.0</td>\n",
       "      <td>0.0</td>\n",
       "      <td>0.0</td>\n",
       "      <td>...</td>\n",
       "      <td>0.0</td>\n",
       "      <td>0.0</td>\n",
       "      <td>0.0</td>\n",
       "      <td>0.0</td>\n",
       "      <td>0.0</td>\n",
       "      <td>0.0</td>\n",
       "      <td>0.0</td>\n",
       "      <td>0.0</td>\n",
       "      <td>0.0</td>\n",
       "      <td>0.0</td>\n",
       "    </tr>\n",
       "    <tr>\n",
       "      <th>3</th>\n",
       "      <td>0.0</td>\n",
       "      <td>0.0</td>\n",
       "      <td>0.0</td>\n",
       "      <td>0.0</td>\n",
       "      <td>0.0</td>\n",
       "      <td>0.0</td>\n",
       "      <td>0.0</td>\n",
       "      <td>0.0</td>\n",
       "      <td>0.0</td>\n",
       "      <td>0.0</td>\n",
       "      <td>...</td>\n",
       "      <td>0.0</td>\n",
       "      <td>0.0</td>\n",
       "      <td>0.0</td>\n",
       "      <td>0.0</td>\n",
       "      <td>0.0</td>\n",
       "      <td>0.0</td>\n",
       "      <td>0.0</td>\n",
       "      <td>0.0</td>\n",
       "      <td>0.0</td>\n",
       "      <td>0.0</td>\n",
       "    </tr>\n",
       "    <tr>\n",
       "      <th>4</th>\n",
       "      <td>0.0</td>\n",
       "      <td>0.0</td>\n",
       "      <td>0.0</td>\n",
       "      <td>0.0</td>\n",
       "      <td>0.0</td>\n",
       "      <td>0.0</td>\n",
       "      <td>0.0</td>\n",
       "      <td>0.0</td>\n",
       "      <td>0.0</td>\n",
       "      <td>0.0</td>\n",
       "      <td>...</td>\n",
       "      <td>0.0</td>\n",
       "      <td>0.0</td>\n",
       "      <td>0.0</td>\n",
       "      <td>0.0</td>\n",
       "      <td>0.0</td>\n",
       "      <td>0.0</td>\n",
       "      <td>0.0</td>\n",
       "      <td>0.0</td>\n",
       "      <td>0.0</td>\n",
       "      <td>0.0</td>\n",
       "    </tr>\n",
       "  </tbody>\n",
       "</table>\n",
       "<p>5 rows × 359 columns</p>\n",
       "</div>"
      ],
      "text/plain": [
       "   x0_Automobiles  x0_Consulting  x0_Consumer Good  x0_Domestic Bank  \\\n",
       "0             0.0            0.0               0.0               0.0   \n",
       "1             0.0            0.0               0.0               0.0   \n",
       "2             0.0            0.0               0.0               0.0   \n",
       "3             0.0            0.0               0.0               0.0   \n",
       "4             0.0            0.0               0.0               0.0   \n",
       "\n",
       "   x0_Domestic Private Bank  x0_Domestic Public Bank  x0_Electronics  \\\n",
       "0                       0.0                      0.0             0.0   \n",
       "1                       0.0                      0.0             0.0   \n",
       "2                       0.0                      0.0             0.0   \n",
       "3                       0.0                      0.0             0.0   \n",
       "4                       0.0                      0.0             0.0   \n",
       "\n",
       "   x0_Energy  x0_Energy   x0_Finance  ...  x2_shafibul  x2_sharat chandran  \\\n",
       "0        0.0         0.0         0.0  ...          0.0                 0.0   \n",
       "1        0.0         0.0         0.0  ...          0.0                 0.0   \n",
       "2        0.0         0.0         0.0  ...          0.0                 0.0   \n",
       "3        0.0         0.0         0.0  ...          0.0                 0.0   \n",
       "4        0.0         0.0         0.0  ...          0.0                 0.0   \n",
       "\n",
       "   x2_sheak shakir  x2_shiv kumar  x2_shiv shakti singh  x2_shyam kumar  \\\n",
       "0              0.0            0.0                   0.0             0.0   \n",
       "1              0.0            0.0                   0.0             0.0   \n",
       "2              0.0            0.0                   0.0             0.0   \n",
       "3              0.0            0.0                   0.0             0.0   \n",
       "4              0.0            0.0                   0.0             0.0   \n",
       "\n",
       "   x2_som dutt  x2_sunder paal  x2_vansu dev  x2_vinit katariya  \n",
       "0          0.0             0.0           0.0                0.0  \n",
       "1          0.0             0.0           0.0                0.0  \n",
       "2          0.0             0.0           0.0                0.0  \n",
       "3          0.0             0.0           0.0                0.0  \n",
       "4          0.0             0.0           0.0                0.0  \n",
       "\n",
       "[5 rows x 359 columns]"
      ]
     },
     "execution_count": 39,
     "metadata": {},
     "output_type": "execute_result"
    }
   ],
   "source": [
    "from sklearn.preprocessing import OneHotEncoder\n",
    "ohe = OneHotEncoder(drop='first', sparse=False)\n",
    "X1 = pd.DataFrame(ohe.fit_transform(X[['Client Category', 'VP Name', 'Manager Name']]))\n",
    "X1.columns = ohe.get_feature_names()\n",
    "X1.head()"
   ]
  },
  {
   "cell_type": "markdown",
   "id": "bfaa209b",
   "metadata": {},
   "source": [
    "We can see that after using One HOt Encoder our number of features has increased from 9 to 359.\n",
    "\n",
    "Now combining encoded featues and numeric feature i.e. X1 and z as X2"
   ]
  },
  {
   "cell_type": "code",
   "execution_count": 40,
   "id": "856d4b3e",
   "metadata": {},
   "outputs": [],
   "source": [
    "X2 = pd.concat((X1,z), axis=1)"
   ]
  },
  {
   "cell_type": "code",
   "execution_count": 41,
   "id": "33bb2ddf",
   "metadata": {},
   "outputs": [
    {
     "data": {
      "text/html": [
       "<div>\n",
       "<style scoped>\n",
       "    .dataframe tbody tr th:only-of-type {\n",
       "        vertical-align: middle;\n",
       "    }\n",
       "\n",
       "    .dataframe tbody tr th {\n",
       "        vertical-align: top;\n",
       "    }\n",
       "\n",
       "    .dataframe thead th {\n",
       "        text-align: right;\n",
       "    }\n",
       "</style>\n",
       "<table border=\"1\" class=\"dataframe\">\n",
       "  <thead>\n",
       "    <tr style=\"text-align: right;\">\n",
       "      <th></th>\n",
       "      <th>x0_Automobiles</th>\n",
       "      <th>x0_Consulting</th>\n",
       "      <th>x0_Consumer Good</th>\n",
       "      <th>x0_Domestic Bank</th>\n",
       "      <th>x0_Domestic Private Bank</th>\n",
       "      <th>x0_Domestic Public Bank</th>\n",
       "      <th>x0_Electronics</th>\n",
       "      <th>x0_Energy</th>\n",
       "      <th>x0_Energy</th>\n",
       "      <th>x0_Finance</th>\n",
       "      <th>...</th>\n",
       "      <th>x2_sharat chandran</th>\n",
       "      <th>x2_sheak shakir</th>\n",
       "      <th>x2_shiv kumar</th>\n",
       "      <th>x2_shiv shakti singh</th>\n",
       "      <th>x2_shyam kumar</th>\n",
       "      <th>x2_som dutt</th>\n",
       "      <th>x2_sunder paal</th>\n",
       "      <th>x2_vansu dev</th>\n",
       "      <th>x2_vinit katariya</th>\n",
       "      <th>Deal Cost</th>\n",
       "    </tr>\n",
       "  </thead>\n",
       "  <tbody>\n",
       "    <tr>\n",
       "      <th>0</th>\n",
       "      <td>0.0</td>\n",
       "      <td>0.0</td>\n",
       "      <td>0.0</td>\n",
       "      <td>0.0</td>\n",
       "      <td>0.0</td>\n",
       "      <td>0.0</td>\n",
       "      <td>0.0</td>\n",
       "      <td>0.0</td>\n",
       "      <td>0.0</td>\n",
       "      <td>0.0</td>\n",
       "      <td>...</td>\n",
       "      <td>0.0</td>\n",
       "      <td>0.0</td>\n",
       "      <td>0.0</td>\n",
       "      <td>0.0</td>\n",
       "      <td>0.0</td>\n",
       "      <td>0.0</td>\n",
       "      <td>0.0</td>\n",
       "      <td>0.0</td>\n",
       "      <td>0.0</td>\n",
       "      <td>150000.00</td>\n",
       "    </tr>\n",
       "    <tr>\n",
       "      <th>1</th>\n",
       "      <td>0.0</td>\n",
       "      <td>0.0</td>\n",
       "      <td>0.0</td>\n",
       "      <td>0.0</td>\n",
       "      <td>0.0</td>\n",
       "      <td>0.0</td>\n",
       "      <td>0.0</td>\n",
       "      <td>0.0</td>\n",
       "      <td>0.0</td>\n",
       "      <td>0.0</td>\n",
       "      <td>...</td>\n",
       "      <td>0.0</td>\n",
       "      <td>0.0</td>\n",
       "      <td>0.0</td>\n",
       "      <td>0.0</td>\n",
       "      <td>0.0</td>\n",
       "      <td>0.0</td>\n",
       "      <td>0.0</td>\n",
       "      <td>0.0</td>\n",
       "      <td>0.0</td>\n",
       "      <td>744705.88</td>\n",
       "    </tr>\n",
       "    <tr>\n",
       "      <th>2</th>\n",
       "      <td>0.0</td>\n",
       "      <td>0.0</td>\n",
       "      <td>0.0</td>\n",
       "      <td>0.0</td>\n",
       "      <td>0.0</td>\n",
       "      <td>0.0</td>\n",
       "      <td>0.0</td>\n",
       "      <td>0.0</td>\n",
       "      <td>0.0</td>\n",
       "      <td>0.0</td>\n",
       "      <td>...</td>\n",
       "      <td>0.0</td>\n",
       "      <td>0.0</td>\n",
       "      <td>0.0</td>\n",
       "      <td>0.0</td>\n",
       "      <td>0.0</td>\n",
       "      <td>0.0</td>\n",
       "      <td>0.0</td>\n",
       "      <td>0.0</td>\n",
       "      <td>0.0</td>\n",
       "      <td>60000.00</td>\n",
       "    </tr>\n",
       "    <tr>\n",
       "      <th>3</th>\n",
       "      <td>0.0</td>\n",
       "      <td>0.0</td>\n",
       "      <td>0.0</td>\n",
       "      <td>0.0</td>\n",
       "      <td>0.0</td>\n",
       "      <td>0.0</td>\n",
       "      <td>0.0</td>\n",
       "      <td>0.0</td>\n",
       "      <td>0.0</td>\n",
       "      <td>0.0</td>\n",
       "      <td>...</td>\n",
       "      <td>0.0</td>\n",
       "      <td>0.0</td>\n",
       "      <td>0.0</td>\n",
       "      <td>0.0</td>\n",
       "      <td>0.0</td>\n",
       "      <td>0.0</td>\n",
       "      <td>0.0</td>\n",
       "      <td>0.0</td>\n",
       "      <td>0.0</td>\n",
       "      <td>60000.00</td>\n",
       "    </tr>\n",
       "    <tr>\n",
       "      <th>4</th>\n",
       "      <td>0.0</td>\n",
       "      <td>0.0</td>\n",
       "      <td>0.0</td>\n",
       "      <td>0.0</td>\n",
       "      <td>0.0</td>\n",
       "      <td>0.0</td>\n",
       "      <td>0.0</td>\n",
       "      <td>0.0</td>\n",
       "      <td>0.0</td>\n",
       "      <td>0.0</td>\n",
       "      <td>...</td>\n",
       "      <td>0.0</td>\n",
       "      <td>0.0</td>\n",
       "      <td>0.0</td>\n",
       "      <td>0.0</td>\n",
       "      <td>0.0</td>\n",
       "      <td>0.0</td>\n",
       "      <td>0.0</td>\n",
       "      <td>0.0</td>\n",
       "      <td>0.0</td>\n",
       "      <td>80882.35</td>\n",
       "    </tr>\n",
       "  </tbody>\n",
       "</table>\n",
       "<p>5 rows × 360 columns</p>\n",
       "</div>"
      ],
      "text/plain": [
       "   x0_Automobiles  x0_Consulting  x0_Consumer Good  x0_Domestic Bank  \\\n",
       "0             0.0            0.0               0.0               0.0   \n",
       "1             0.0            0.0               0.0               0.0   \n",
       "2             0.0            0.0               0.0               0.0   \n",
       "3             0.0            0.0               0.0               0.0   \n",
       "4             0.0            0.0               0.0               0.0   \n",
       "\n",
       "   x0_Domestic Private Bank  x0_Domestic Public Bank  x0_Electronics  \\\n",
       "0                       0.0                      0.0             0.0   \n",
       "1                       0.0                      0.0             0.0   \n",
       "2                       0.0                      0.0             0.0   \n",
       "3                       0.0                      0.0             0.0   \n",
       "4                       0.0                      0.0             0.0   \n",
       "\n",
       "   x0_Energy  x0_Energy   x0_Finance  ...  x2_sharat chandran  \\\n",
       "0        0.0         0.0         0.0  ...                 0.0   \n",
       "1        0.0         0.0         0.0  ...                 0.0   \n",
       "2        0.0         0.0         0.0  ...                 0.0   \n",
       "3        0.0         0.0         0.0  ...                 0.0   \n",
       "4        0.0         0.0         0.0  ...                 0.0   \n",
       "\n",
       "   x2_sheak shakir  x2_shiv kumar  x2_shiv shakti singh  x2_shyam kumar  \\\n",
       "0              0.0            0.0                   0.0             0.0   \n",
       "1              0.0            0.0                   0.0             0.0   \n",
       "2              0.0            0.0                   0.0             0.0   \n",
       "3              0.0            0.0                   0.0             0.0   \n",
       "4              0.0            0.0                   0.0             0.0   \n",
       "\n",
       "   x2_som dutt  x2_sunder paal  x2_vansu dev  x2_vinit katariya  Deal Cost  \n",
       "0          0.0             0.0           0.0                0.0  150000.00  \n",
       "1          0.0             0.0           0.0                0.0  744705.88  \n",
       "2          0.0             0.0           0.0                0.0   60000.00  \n",
       "3          0.0             0.0           0.0                0.0   60000.00  \n",
       "4          0.0             0.0           0.0                0.0   80882.35  \n",
       "\n",
       "[5 rows x 360 columns]"
      ]
     },
     "execution_count": 41,
     "metadata": {},
     "output_type": "execute_result"
    }
   ],
   "source": [
    "X2.head()"
   ]
  },
  {
   "cell_type": "markdown",
   "id": "34db15c9",
   "metadata": {},
   "source": [
    "As we combined 1 feature our number of features became 360 from 359."
   ]
  },
  {
   "cell_type": "markdown",
   "id": "3bec933c",
   "metadata": {},
   "source": [
    "Now splitting our data into train and test in order to process into a machine learning model. "
   ]
  },
  {
   "cell_type": "code",
   "execution_count": 42,
   "id": "8534b41f",
   "metadata": {},
   "outputs": [
    {
     "data": {
      "text/plain": [
       "((7042, 360), (3019, 360))"
      ]
     },
     "execution_count": 42,
     "metadata": {},
     "output_type": "execute_result"
    }
   ],
   "source": [
    "from sklearn.model_selection import train_test_split\n",
    "\n",
    "X2_train, X2_test, y_train, y_test = train_test_split(X2,y, test_size=0.3,random_state=1)\n",
    "\n",
    "X2_train.shape, X2_test.shape"
   ]
  },
  {
   "cell_type": "markdown",
   "id": "4d76b693",
   "metadata": {},
   "source": [
    "Our data got split into 7042 rows for train and 3019 as test as we kept our test size as 30%."
   ]
  },
  {
   "cell_type": "code",
   "execution_count": 43,
   "id": "a549d436",
   "metadata": {},
   "outputs": [
    {
     "data": {
      "text/html": [
       "<div>\n",
       "<style scoped>\n",
       "    .dataframe tbody tr th:only-of-type {\n",
       "        vertical-align: middle;\n",
       "    }\n",
       "\n",
       "    .dataframe tbody tr th {\n",
       "        vertical-align: top;\n",
       "    }\n",
       "\n",
       "    .dataframe thead th {\n",
       "        text-align: right;\n",
       "    }\n",
       "</style>\n",
       "<table border=\"1\" class=\"dataframe\">\n",
       "  <thead>\n",
       "    <tr style=\"text-align: right;\">\n",
       "      <th></th>\n",
       "      <th>x0_Automobiles</th>\n",
       "      <th>x0_Consulting</th>\n",
       "      <th>x0_Consumer Good</th>\n",
       "      <th>x0_Domestic Bank</th>\n",
       "      <th>x0_Domestic Private Bank</th>\n",
       "      <th>x0_Domestic Public Bank</th>\n",
       "      <th>x0_Electronics</th>\n",
       "      <th>x0_Energy</th>\n",
       "      <th>x0_Energy</th>\n",
       "      <th>x0_Finance</th>\n",
       "      <th>...</th>\n",
       "      <th>x2_sharat chandran</th>\n",
       "      <th>x2_sheak shakir</th>\n",
       "      <th>x2_shiv kumar</th>\n",
       "      <th>x2_shiv shakti singh</th>\n",
       "      <th>x2_shyam kumar</th>\n",
       "      <th>x2_som dutt</th>\n",
       "      <th>x2_sunder paal</th>\n",
       "      <th>x2_vansu dev</th>\n",
       "      <th>x2_vinit katariya</th>\n",
       "      <th>Deal Cost</th>\n",
       "    </tr>\n",
       "  </thead>\n",
       "  <tbody>\n",
       "    <tr>\n",
       "      <th>217</th>\n",
       "      <td>0.0</td>\n",
       "      <td>0.0</td>\n",
       "      <td>0.0</td>\n",
       "      <td>0.0</td>\n",
       "      <td>0.0</td>\n",
       "      <td>0.0</td>\n",
       "      <td>0.0</td>\n",
       "      <td>0.0</td>\n",
       "      <td>0.0</td>\n",
       "      <td>0.0</td>\n",
       "      <td>...</td>\n",
       "      <td>0.0</td>\n",
       "      <td>0.0</td>\n",
       "      <td>0.0</td>\n",
       "      <td>0.0</td>\n",
       "      <td>0.0</td>\n",
       "      <td>0.0</td>\n",
       "      <td>0.0</td>\n",
       "      <td>0.0</td>\n",
       "      <td>0.0</td>\n",
       "      <td>0.00</td>\n",
       "    </tr>\n",
       "    <tr>\n",
       "      <th>9619</th>\n",
       "      <td>0.0</td>\n",
       "      <td>0.0</td>\n",
       "      <td>0.0</td>\n",
       "      <td>0.0</td>\n",
       "      <td>0.0</td>\n",
       "      <td>0.0</td>\n",
       "      <td>0.0</td>\n",
       "      <td>0.0</td>\n",
       "      <td>0.0</td>\n",
       "      <td>1.0</td>\n",
       "      <td>...</td>\n",
       "      <td>0.0</td>\n",
       "      <td>0.0</td>\n",
       "      <td>0.0</td>\n",
       "      <td>0.0</td>\n",
       "      <td>0.0</td>\n",
       "      <td>0.0</td>\n",
       "      <td>0.0</td>\n",
       "      <td>0.0</td>\n",
       "      <td>0.0</td>\n",
       "      <td>600000.00</td>\n",
       "    </tr>\n",
       "    <tr>\n",
       "      <th>5142</th>\n",
       "      <td>0.0</td>\n",
       "      <td>0.0</td>\n",
       "      <td>0.0</td>\n",
       "      <td>0.0</td>\n",
       "      <td>0.0</td>\n",
       "      <td>0.0</td>\n",
       "      <td>0.0</td>\n",
       "      <td>0.0</td>\n",
       "      <td>0.0</td>\n",
       "      <td>0.0</td>\n",
       "      <td>...</td>\n",
       "      <td>0.0</td>\n",
       "      <td>0.0</td>\n",
       "      <td>0.0</td>\n",
       "      <td>0.0</td>\n",
       "      <td>0.0</td>\n",
       "      <td>0.0</td>\n",
       "      <td>0.0</td>\n",
       "      <td>0.0</td>\n",
       "      <td>0.0</td>\n",
       "      <td>398529.41</td>\n",
       "    </tr>\n",
       "    <tr>\n",
       "      <th>8189</th>\n",
       "      <td>1.0</td>\n",
       "      <td>0.0</td>\n",
       "      <td>0.0</td>\n",
       "      <td>0.0</td>\n",
       "      <td>0.0</td>\n",
       "      <td>0.0</td>\n",
       "      <td>0.0</td>\n",
       "      <td>0.0</td>\n",
       "      <td>0.0</td>\n",
       "      <td>0.0</td>\n",
       "      <td>...</td>\n",
       "      <td>0.0</td>\n",
       "      <td>0.0</td>\n",
       "      <td>0.0</td>\n",
       "      <td>0.0</td>\n",
       "      <td>0.0</td>\n",
       "      <td>0.0</td>\n",
       "      <td>0.0</td>\n",
       "      <td>0.0</td>\n",
       "      <td>0.0</td>\n",
       "      <td>1176470.59</td>\n",
       "    </tr>\n",
       "    <tr>\n",
       "      <th>248</th>\n",
       "      <td>0.0</td>\n",
       "      <td>0.0</td>\n",
       "      <td>0.0</td>\n",
       "      <td>0.0</td>\n",
       "      <td>1.0</td>\n",
       "      <td>0.0</td>\n",
       "      <td>0.0</td>\n",
       "      <td>0.0</td>\n",
       "      <td>0.0</td>\n",
       "      <td>0.0</td>\n",
       "      <td>...</td>\n",
       "      <td>0.0</td>\n",
       "      <td>0.0</td>\n",
       "      <td>0.0</td>\n",
       "      <td>0.0</td>\n",
       "      <td>0.0</td>\n",
       "      <td>0.0</td>\n",
       "      <td>0.0</td>\n",
       "      <td>0.0</td>\n",
       "      <td>0.0</td>\n",
       "      <td>132352.94</td>\n",
       "    </tr>\n",
       "  </tbody>\n",
       "</table>\n",
       "<p>5 rows × 360 columns</p>\n",
       "</div>"
      ],
      "text/plain": [
       "      x0_Automobiles  x0_Consulting  x0_Consumer Good  x0_Domestic Bank  \\\n",
       "217              0.0            0.0               0.0               0.0   \n",
       "9619             0.0            0.0               0.0               0.0   \n",
       "5142             0.0            0.0               0.0               0.0   \n",
       "8189             1.0            0.0               0.0               0.0   \n",
       "248              0.0            0.0               0.0               0.0   \n",
       "\n",
       "      x0_Domestic Private Bank  x0_Domestic Public Bank  x0_Electronics  \\\n",
       "217                        0.0                      0.0             0.0   \n",
       "9619                       0.0                      0.0             0.0   \n",
       "5142                       0.0                      0.0             0.0   \n",
       "8189                       0.0                      0.0             0.0   \n",
       "248                        1.0                      0.0             0.0   \n",
       "\n",
       "      x0_Energy  x0_Energy   x0_Finance  ...  x2_sharat chandran  \\\n",
       "217         0.0         0.0         0.0  ...                 0.0   \n",
       "9619        0.0         0.0         1.0  ...                 0.0   \n",
       "5142        0.0         0.0         0.0  ...                 0.0   \n",
       "8189        0.0         0.0         0.0  ...                 0.0   \n",
       "248         0.0         0.0         0.0  ...                 0.0   \n",
       "\n",
       "      x2_sheak shakir  x2_shiv kumar  x2_shiv shakti singh  x2_shyam kumar  \\\n",
       "217               0.0            0.0                   0.0             0.0   \n",
       "9619              0.0            0.0                   0.0             0.0   \n",
       "5142              0.0            0.0                   0.0             0.0   \n",
       "8189              0.0            0.0                   0.0             0.0   \n",
       "248               0.0            0.0                   0.0             0.0   \n",
       "\n",
       "      x2_som dutt  x2_sunder paal  x2_vansu dev  x2_vinit katariya   Deal Cost  \n",
       "217           0.0             0.0           0.0                0.0        0.00  \n",
       "9619          0.0             0.0           0.0                0.0   600000.00  \n",
       "5142          0.0             0.0           0.0                0.0   398529.41  \n",
       "8189          0.0             0.0           0.0                0.0  1176470.59  \n",
       "248           0.0             0.0           0.0                0.0   132352.94  \n",
       "\n",
       "[5 rows x 360 columns]"
      ]
     },
     "execution_count": 43,
     "metadata": {},
     "output_type": "execute_result"
    }
   ],
   "source": [
    "X2_train.head()"
   ]
  },
  {
   "cell_type": "markdown",
   "id": "0bd6bbe2",
   "metadata": {},
   "source": [
    "Also Scaling our both train and test data using Standard Scaler"
   ]
  },
  {
   "cell_type": "code",
   "execution_count": 44,
   "id": "809dcbd7",
   "metadata": {},
   "outputs": [],
   "source": [
    "from sklearn.preprocessing import StandardScaler"
   ]
  },
  {
   "cell_type": "code",
   "execution_count": 45,
   "id": "914b5092",
   "metadata": {},
   "outputs": [],
   "source": [
    "scaler = StandardScaler()\n",
    "X2_train_scaled = pd.DataFrame(scaler.fit_transform(X2_train), columns=X2_train.columns)\n",
    "X2_test_scaled = pd.DataFrame(scaler.fit_transform(X2_test), columns=X2_test.columns)"
   ]
  },
  {
   "cell_type": "markdown",
   "id": "e1c74ac3",
   "metadata": {},
   "source": [
    "Scaled data is stored in X2_train_scaled and X2_test_scaled respectively."
   ]
  },
  {
   "cell_type": "code",
   "execution_count": 46,
   "id": "dbd1e4d8",
   "metadata": {},
   "outputs": [
    {
     "data": {
      "text/html": [
       "<div>\n",
       "<style scoped>\n",
       "    .dataframe tbody tr th:only-of-type {\n",
       "        vertical-align: middle;\n",
       "    }\n",
       "\n",
       "    .dataframe tbody tr th {\n",
       "        vertical-align: top;\n",
       "    }\n",
       "\n",
       "    .dataframe thead th {\n",
       "        text-align: right;\n",
       "    }\n",
       "</style>\n",
       "<table border=\"1\" class=\"dataframe\">\n",
       "  <thead>\n",
       "    <tr style=\"text-align: right;\">\n",
       "      <th></th>\n",
       "      <th>x0_Automobiles</th>\n",
       "      <th>x0_Consulting</th>\n",
       "      <th>x0_Consumer Good</th>\n",
       "      <th>x0_Domestic Bank</th>\n",
       "      <th>x0_Domestic Private Bank</th>\n",
       "      <th>x0_Domestic Public Bank</th>\n",
       "      <th>x0_Electronics</th>\n",
       "      <th>x0_Energy</th>\n",
       "      <th>x0_Energy</th>\n",
       "      <th>x0_Finance</th>\n",
       "      <th>...</th>\n",
       "      <th>x2_sharat chandran</th>\n",
       "      <th>x2_sheak shakir</th>\n",
       "      <th>x2_shiv kumar</th>\n",
       "      <th>x2_shiv shakti singh</th>\n",
       "      <th>x2_shyam kumar</th>\n",
       "      <th>x2_som dutt</th>\n",
       "      <th>x2_sunder paal</th>\n",
       "      <th>x2_vansu dev</th>\n",
       "      <th>x2_vinit katariya</th>\n",
       "      <th>Deal Cost</th>\n",
       "    </tr>\n",
       "  </thead>\n",
       "  <tbody>\n",
       "    <tr>\n",
       "      <th>0</th>\n",
       "      <td>-0.129416</td>\n",
       "      <td>-0.190657</td>\n",
       "      <td>-0.136063</td>\n",
       "      <td>-0.11694</td>\n",
       "      <td>-0.165618</td>\n",
       "      <td>-0.209101</td>\n",
       "      <td>-0.090335</td>\n",
       "      <td>-0.07746</td>\n",
       "      <td>-0.059689</td>\n",
       "      <td>-0.187840</td>\n",
       "      <td>...</td>\n",
       "      <td>-0.020645</td>\n",
       "      <td>-0.043006</td>\n",
       "      <td>-0.020645</td>\n",
       "      <td>-0.011917</td>\n",
       "      <td>-0.073658</td>\n",
       "      <td>-0.016855</td>\n",
       "      <td>-0.029202</td>\n",
       "      <td>-0.115054</td>\n",
       "      <td>-0.035773</td>\n",
       "      <td>-0.464383</td>\n",
       "    </tr>\n",
       "    <tr>\n",
       "      <th>1</th>\n",
       "      <td>-0.129416</td>\n",
       "      <td>-0.190657</td>\n",
       "      <td>-0.136063</td>\n",
       "      <td>-0.11694</td>\n",
       "      <td>-0.165618</td>\n",
       "      <td>-0.209101</td>\n",
       "      <td>-0.090335</td>\n",
       "      <td>-0.07746</td>\n",
       "      <td>-0.059689</td>\n",
       "      <td>5.323689</td>\n",
       "      <td>...</td>\n",
       "      <td>-0.020645</td>\n",
       "      <td>-0.043006</td>\n",
       "      <td>-0.020645</td>\n",
       "      <td>-0.011917</td>\n",
       "      <td>-0.073658</td>\n",
       "      <td>-0.016855</td>\n",
       "      <td>-0.029202</td>\n",
       "      <td>-0.115054</td>\n",
       "      <td>-0.035773</td>\n",
       "      <td>-0.100714</td>\n",
       "    </tr>\n",
       "    <tr>\n",
       "      <th>2</th>\n",
       "      <td>-0.129416</td>\n",
       "      <td>-0.190657</td>\n",
       "      <td>-0.136063</td>\n",
       "      <td>-0.11694</td>\n",
       "      <td>-0.165618</td>\n",
       "      <td>-0.209101</td>\n",
       "      <td>-0.090335</td>\n",
       "      <td>-0.07746</td>\n",
       "      <td>-0.059689</td>\n",
       "      <td>-0.187840</td>\n",
       "      <td>...</td>\n",
       "      <td>-0.020645</td>\n",
       "      <td>-0.043006</td>\n",
       "      <td>-0.020645</td>\n",
       "      <td>-0.011917</td>\n",
       "      <td>-0.073658</td>\n",
       "      <td>-0.016855</td>\n",
       "      <td>-0.029202</td>\n",
       "      <td>-0.115054</td>\n",
       "      <td>-0.035773</td>\n",
       "      <td>-0.222829</td>\n",
       "    </tr>\n",
       "    <tr>\n",
       "      <th>3</th>\n",
       "      <td>7.727024</td>\n",
       "      <td>-0.190657</td>\n",
       "      <td>-0.136063</td>\n",
       "      <td>-0.11694</td>\n",
       "      <td>-0.165618</td>\n",
       "      <td>-0.209101</td>\n",
       "      <td>-0.090335</td>\n",
       "      <td>-0.07746</td>\n",
       "      <td>-0.059689</td>\n",
       "      <td>-0.187840</td>\n",
       "      <td>...</td>\n",
       "      <td>-0.020645</td>\n",
       "      <td>-0.043006</td>\n",
       "      <td>-0.020645</td>\n",
       "      <td>-0.011917</td>\n",
       "      <td>-0.073658</td>\n",
       "      <td>-0.016855</td>\n",
       "      <td>-0.029202</td>\n",
       "      <td>-0.115054</td>\n",
       "      <td>-0.035773</td>\n",
       "      <td>0.248693</td>\n",
       "    </tr>\n",
       "    <tr>\n",
       "      <th>4</th>\n",
       "      <td>-0.129416</td>\n",
       "      <td>-0.190657</td>\n",
       "      <td>-0.136063</td>\n",
       "      <td>-0.11694</td>\n",
       "      <td>6.038000</td>\n",
       "      <td>-0.209101</td>\n",
       "      <td>-0.090335</td>\n",
       "      <td>-0.07746</td>\n",
       "      <td>-0.059689</td>\n",
       "      <td>-0.187840</td>\n",
       "      <td>...</td>\n",
       "      <td>-0.020645</td>\n",
       "      <td>-0.043006</td>\n",
       "      <td>-0.020645</td>\n",
       "      <td>-0.011917</td>\n",
       "      <td>-0.073658</td>\n",
       "      <td>-0.016855</td>\n",
       "      <td>-0.029202</td>\n",
       "      <td>-0.115054</td>\n",
       "      <td>-0.035773</td>\n",
       "      <td>-0.384162</td>\n",
       "    </tr>\n",
       "  </tbody>\n",
       "</table>\n",
       "<p>5 rows × 360 columns</p>\n",
       "</div>"
      ],
      "text/plain": [
       "   x0_Automobiles  x0_Consulting  x0_Consumer Good  x0_Domestic Bank  \\\n",
       "0       -0.129416      -0.190657         -0.136063          -0.11694   \n",
       "1       -0.129416      -0.190657         -0.136063          -0.11694   \n",
       "2       -0.129416      -0.190657         -0.136063          -0.11694   \n",
       "3        7.727024      -0.190657         -0.136063          -0.11694   \n",
       "4       -0.129416      -0.190657         -0.136063          -0.11694   \n",
       "\n",
       "   x0_Domestic Private Bank  x0_Domestic Public Bank  x0_Electronics  \\\n",
       "0                 -0.165618                -0.209101       -0.090335   \n",
       "1                 -0.165618                -0.209101       -0.090335   \n",
       "2                 -0.165618                -0.209101       -0.090335   \n",
       "3                 -0.165618                -0.209101       -0.090335   \n",
       "4                  6.038000                -0.209101       -0.090335   \n",
       "\n",
       "   x0_Energy  x0_Energy   x0_Finance  ...  x2_sharat chandran  \\\n",
       "0   -0.07746   -0.059689   -0.187840  ...           -0.020645   \n",
       "1   -0.07746   -0.059689    5.323689  ...           -0.020645   \n",
       "2   -0.07746   -0.059689   -0.187840  ...           -0.020645   \n",
       "3   -0.07746   -0.059689   -0.187840  ...           -0.020645   \n",
       "4   -0.07746   -0.059689   -0.187840  ...           -0.020645   \n",
       "\n",
       "   x2_sheak shakir  x2_shiv kumar  x2_shiv shakti singh  x2_shyam kumar  \\\n",
       "0        -0.043006      -0.020645             -0.011917       -0.073658   \n",
       "1        -0.043006      -0.020645             -0.011917       -0.073658   \n",
       "2        -0.043006      -0.020645             -0.011917       -0.073658   \n",
       "3        -0.043006      -0.020645             -0.011917       -0.073658   \n",
       "4        -0.043006      -0.020645             -0.011917       -0.073658   \n",
       "\n",
       "   x2_som dutt  x2_sunder paal  x2_vansu dev  x2_vinit katariya  Deal Cost  \n",
       "0    -0.016855       -0.029202     -0.115054          -0.035773  -0.464383  \n",
       "1    -0.016855       -0.029202     -0.115054          -0.035773  -0.100714  \n",
       "2    -0.016855       -0.029202     -0.115054          -0.035773  -0.222829  \n",
       "3    -0.016855       -0.029202     -0.115054          -0.035773   0.248693  \n",
       "4    -0.016855       -0.029202     -0.115054          -0.035773  -0.384162  \n",
       "\n",
       "[5 rows x 360 columns]"
      ]
     },
     "execution_count": 46,
     "metadata": {},
     "output_type": "execute_result"
    }
   ],
   "source": [
    "X2_train_scaled.head()"
   ]
  },
  {
   "cell_type": "markdown",
   "id": "83594806",
   "metadata": {},
   "source": [
    "As our data is having too many features, it may give us a problem of overfitting so it is better to use PCA, LDA for dimensionality reduction.\n",
    "\n",
    "First using PCA on scaled data keeping number of components 20 and storing them in new variables."
   ]
  },
  {
   "cell_type": "code",
   "execution_count": 47,
   "id": "75516d24",
   "metadata": {},
   "outputs": [],
   "source": [
    "from sklearn.decomposition import PCA\n",
    "pca=PCA(n_components=20)\n",
    "X2_train_scaled_pca=pca.fit_transform(X2_train_scaled)\n",
    "X2_test_scaled_pca=pca.fit_transform(X2_test_scaled)\n"
   ]
  },
  {
   "cell_type": "code",
   "execution_count": 48,
   "id": "f5469083",
   "metadata": {},
   "outputs": [
    {
     "data": {
      "text/plain": [
       "(7042, 20)"
      ]
     },
     "execution_count": 48,
     "metadata": {},
     "output_type": "execute_result"
    }
   ],
   "source": [
    "X2_train_scaled_pca.shape"
   ]
  },
  {
   "cell_type": "markdown",
   "id": "65ea2ad3",
   "metadata": {},
   "source": [
    "We can see that our total number of features got reduced to 20 from 360.\n",
    "\n",
    "Now lets build our model based on this PCA\n",
    "\n",
    "Logistic Regression on PCA"
   ]
  },
  {
   "cell_type": "code",
   "execution_count": 49,
   "id": "c5b8212f",
   "metadata": {},
   "outputs": [],
   "source": [
    "from sklearn.linear_model import LogisticRegression\n",
    "model = LogisticRegression()\n",
    "model.fit(X2_train_scaled_pca, y_train)\n",
    "\n",
    "y_pred_train_pca_lg = model.predict(X2_train_scaled_pca)\n",
    "y_pred_test_pca_lg = model.predict(X2_test_scaled_pca)\n",
    "\n"
   ]
  },
  {
   "cell_type": "code",
   "execution_count": 50,
   "id": "12a5cd5e",
   "metadata": {},
   "outputs": [],
   "source": [
    "from sklearn.metrics import accuracy_score, confusion_matrix, classification_report"
   ]
  },
  {
   "cell_type": "code",
   "execution_count": 51,
   "id": "3acef725",
   "metadata": {},
   "outputs": [
    {
     "name": "stdout",
     "output_type": "stream",
     "text": [
      "[[4036  357]\n",
      " [2173  476]]\n",
      "0.6407270661743822\n",
      "[[1766  147]\n",
      " [ 996  110]]\n",
      "0.6213978138456443\n"
     ]
    }
   ],
   "source": [
    "print(confusion_matrix(y_train,y_pred_train_pca_lg))\n",
    "print(accuracy_score(y_train,y_pred_train_pca_lg))\n",
    "\n",
    "print(confusion_matrix(y_test,y_pred_test_pca_lg))\n",
    "print(accuracy_score(y_test,y_pred_test_pca_lg))"
   ]
  },
  {
   "cell_type": "markdown",
   "id": "19b78ab5",
   "metadata": {},
   "source": [
    "We find that, Accuracy of Train data is 63.80% and Accuracy of Test data is 60.81%\n",
    "\n",
    "# Building a DecisionTree Classifier model on PCA"
   ]
  },
  {
   "cell_type": "code",
   "execution_count": 52,
   "id": "58151e66",
   "metadata": {},
   "outputs": [
    {
     "name": "stdout",
     "output_type": "stream",
     "text": [
      "[[4386    7]\n",
      " [  53 2596]]\n",
      "0.9914796932689577\n",
      "[[1016  897]\n",
      " [ 597  509]]\n",
      "0.5051341503809208\n"
     ]
    }
   ],
   "source": [
    "from sklearn.tree import DecisionTreeClassifier\n",
    "dtree = DecisionTreeClassifier()\n",
    "dtree.fit(X2_train_scaled_pca, y_train)\n",
    "\n",
    "y_pred_train_pca_dt = dtree.predict(X2_train_scaled_pca)\n",
    "y_pred_test_pca_dt = dtree.predict(X2_test_scaled_pca)\n",
    "\n",
    "print(confusion_matrix(y_train,y_pred_train_pca_dt))\n",
    "print(accuracy_score(y_train,y_pred_train_pca_dt))\n",
    "\n",
    "print(confusion_matrix(y_test,y_pred_test_pca_dt))\n",
    "print(accuracy_score(y_test,y_pred_test_pca_dt))"
   ]
  },
  {
   "cell_type": "markdown",
   "id": "0289f5ce",
   "metadata": {},
   "source": [
    "We find that, Accuracy of Train data is 99.15% and Accuracy of Test data is 48.66% which is a problem of overfitting.\n",
    "\n",
    "# RandomForest on PCA model"
   ]
  },
  {
   "cell_type": "code",
   "execution_count": 53,
   "id": "b94ee6d7",
   "metadata": {},
   "outputs": [
    {
     "name": "stdout",
     "output_type": "stream",
     "text": [
      "0.9914796932689577\n",
      "0.5743623716462405\n"
     ]
    }
   ],
   "source": [
    "from sklearn.ensemble import RandomForestClassifier # RandomForestRegressor\n",
    "rf = RandomForestClassifier(n_estimators=500)\n",
    "rf.fit(X2_train_scaled_pca, y_train)\n",
    "\n",
    "y_pred_train_pca_rf = rf.predict(X2_train_scaled_pca)\n",
    "y_pred_test_pca_rf = rf.predict(X2_test_scaled_pca)\n",
    "\n",
    "print(accuracy_score(y_train, y_pred_train_pca_rf))\n",
    "print(accuracy_score(y_test, y_pred_test_pca_rf))"
   ]
  },
  {
   "cell_type": "markdown",
   "id": "d7736204",
   "metadata": {},
   "source": [
    "We find that, Accuracy of Train data is 99.15% and Accuracy of Test data is 59.52%. Accuray of test data is more from decision tree but still it is which is a problem of overfitting."
   ]
  },
  {
   "cell_type": "markdown",
   "id": "d2e5850d",
   "metadata": {},
   "source": [
    "# Now applying LDA over the dataset"
   ]
  },
  {
   "cell_type": "code",
   "execution_count": 54,
   "id": "c91d4bae",
   "metadata": {},
   "outputs": [],
   "source": [
    "from sklearn.discriminant_analysis import LinearDiscriminantAnalysis as LDA\n",
    "\n",
    "lda = LDA(n_components=None)\n",
    "X2_train_scaled_lda = lda.fit_transform(X2_train_scaled, y_train)\n",
    "X2_test_scaled_lda = lda.fit_transform(X2_test_scaled, y_test )"
   ]
  },
  {
   "cell_type": "markdown",
   "id": "e508a011",
   "metadata": {},
   "source": [
    "# Decision Tree on PCA model"
   ]
  },
  {
   "cell_type": "code",
   "execution_count": 55,
   "id": "dbcb263a",
   "metadata": {},
   "outputs": [
    {
     "name": "stdout",
     "output_type": "stream",
     "text": [
      "[[4386    7]\n",
      " [  53 2596]]\n",
      "0.9914796932689577\n",
      "[[1211  702]\n",
      " [ 471  635]]\n",
      "0.6114607485922491\n"
     ]
    }
   ],
   "source": [
    "from sklearn.tree import DecisionTreeClassifier\n",
    "dt = DecisionTreeClassifier()\n",
    "dt.fit(X2_train_scaled_lda, y_train)\n",
    "\n",
    "y_pred_train_lda_dt = dt.predict(X2_train_scaled_lda)\n",
    "y_pred_test_lda_dt = dt.predict(X2_test_scaled_lda)\n",
    "\n",
    "print(confusion_matrix(y_train,y_pred_train_lda_dt))\n",
    "print(accuracy_score(y_train,y_pred_train_lda_dt))\n",
    "\n",
    "print(confusion_matrix(y_test,y_pred_test_lda_dt))\n",
    "print(accuracy_score(y_test,y_pred_test_lda_dt))"
   ]
  },
  {
   "cell_type": "markdown",
   "id": "dda824d1",
   "metadata": {},
   "source": [
    "We find that, Accuracy of Train data is 99.15% and Accuracy of Test data is 61.15%. Accuray of test data is better from decision tree on PCA but still it is a problem of overfitting."
   ]
  },
  {
   "cell_type": "markdown",
   "id": "eeb4e54c",
   "metadata": {},
   "source": [
    "# RandomForest on LDA Model"
   ]
  },
  {
   "cell_type": "code",
   "execution_count": 56,
   "id": "ae25257b",
   "metadata": {},
   "outputs": [
    {
     "name": "stdout",
     "output_type": "stream",
     "text": [
      "0.9913376881567736\n",
      "0.6107982775753561\n"
     ]
    }
   ],
   "source": [
    "from sklearn.ensemble import RandomForestClassifier # RandomForestRegressor\n",
    "rf = RandomForestClassifier(n_estimators=100)\n",
    "rf.fit(X2_train_scaled_lda, y_train)\n",
    "\n",
    "y_pred_train_lda_rf = rf.predict(X2_train_scaled_lda)\n",
    "y_pred_test_lda_rf = rf.predict(X2_test_scaled_lda)\n",
    "\n",
    "print(accuracy_score(y_train, y_pred_train_lda_rf))\n",
    "print(accuracy_score(y_test, y_pred_test_lda_rf))"
   ]
  },
  {
   "cell_type": "markdown",
   "id": "45881163",
   "metadata": {},
   "source": [
    "We find that, Accuracy of Train data is 99.13% and Accuracy of Test data is 61.11%. Accuray of test data is better from ranodm forest tree on PCA but still it is a problem of overfitting."
   ]
  },
  {
   "cell_type": "code",
   "execution_count": 57,
   "id": "b95f625f",
   "metadata": {},
   "outputs": [],
   "source": [
    "from sklearn.svm import SVC"
   ]
  },
  {
   "cell_type": "code",
   "execution_count": 58,
   "id": "eff200ce",
   "metadata": {},
   "outputs": [
    {
     "name": "stdout",
     "output_type": "stream",
     "text": [
      "0.7262141437091735\n",
      "0.699238158330573\n"
     ]
    }
   ],
   "source": [
    "# Kernel - linear / sigmoid / polynomial / rbf\n",
    "# Kernel - linear \n",
    "svc_rbf = SVC(C=1.0,kernel='rbf')\n",
    "svc_rbf.fit(X2_train_scaled, y_train)\n",
    "\n",
    "svc_rbf_pred_train = svc_rbf.predict(X2_train_scaled)\n",
    "svc_rbf_pred_test = svc_rbf.predict(X2_test_scaled)\n",
    "\n",
    "print(accuracy_score(y_train,svc_rbf_pred_train))\n",
    "print(accuracy_score(y_test,svc_rbf_pred_test))"
   ]
  },
  {
   "cell_type": "markdown",
   "id": "a92603fe",
   "metadata": {},
   "source": [
    "Now as Random forest is giving better results as compared to logistic regression, decision tree and SVM, let us find Random Forest on our scaled data i.e. without PCA or LDA.\n",
    "\n",
    "# RandomForest on Scaled Data"
   ]
  },
  {
   "cell_type": "code",
   "execution_count": 59,
   "id": "78e4ed46",
   "metadata": {},
   "outputs": [
    {
     "name": "stdout",
     "output_type": "stream",
     "text": [
      "0.9914796932689577\n",
      "0.7502484266313348\n"
     ]
    }
   ],
   "source": [
    "from sklearn.ensemble import RandomForestClassifier # RandomForestRegressor\n",
    "rf = RandomForestClassifier(n_estimators=100)\n",
    "rf.fit(X2_train_scaled, y_train)\n",
    "\n",
    "y_pred_train_rf = rf.predict(X2_train_scaled)\n",
    "y_pred_test_rf = rf.predict(X2_test_scaled)\n",
    "\n",
    "print(accuracy_score(y_train, y_pred_train_rf))\n",
    "print(accuracy_score(y_test, y_pred_test_rf))"
   ]
  },
  {
   "cell_type": "markdown",
   "id": "779186e3",
   "metadata": {},
   "source": [
    "Accuracy of normal scaled  data is better than the PCA or LDA model, so going for cross validation to find the best accuracy."
   ]
  },
  {
   "cell_type": "markdown",
   "id": "72175cfc",
   "metadata": {},
   "source": [
    "\n",
    "\n",
    "# Cross validation\n"
   ]
  },
  {
   "cell_type": "markdown",
   "id": "6d8a8c18",
   "metadata": {},
   "source": [
    "On Random forest for LDA model"
   ]
  },
  {
   "cell_type": "code",
   "execution_count": 60,
   "id": "eafa0518",
   "metadata": {},
   "outputs": [
    {
     "name": "stdout",
     "output_type": "stream",
     "text": [
      "[0.72888573 0.71753016 0.72017045 0.75497159 0.74360795]\n",
      "[0.71357616 0.66887417 0.67715232 0.68211921 0.69485904]\n"
     ]
    }
   ],
   "source": [
    "from sklearn.model_selection import cross_val_score\n",
    "accuracy_rf = cross_val_score(estimator=rf, X=X2_train_scaled_lda, y=y_train, cv=5)\n",
    "accuracy1_rf = cross_val_score(estimator=rf, X=X2_test_scaled_lda, y=y_test, cv=5)\n",
    "print(accuracy_rf)\n",
    "print(accuracy1_rf)"
   ]
  },
  {
   "cell_type": "markdown",
   "id": "44b84838",
   "metadata": {},
   "source": [
    "On Random forest for normal scaled data"
   ]
  },
  {
   "cell_type": "code",
   "execution_count": 61,
   "id": "4aa28b3e",
   "metadata": {},
   "outputs": [
    {
     "name": "stdout",
     "output_type": "stream",
     "text": [
      "[0.75798439 0.77217885 0.77485795 0.78622159 0.77414773]\n",
      "[0.70695364 0.73344371 0.7102649  0.6986755  0.68656716]\n"
     ]
    }
   ],
   "source": [
    "from sklearn.model_selection import cross_val_score\n",
    "accuracy_rf = cross_val_score(estimator=rf, X=X2_train_scaled, y=y_train, cv=5)\n",
    "accuracy1_rf = cross_val_score(estimator=rf, X=X2_test_scaled, y=y_test, cv=5)\n",
    "print(accuracy_rf)\n",
    "print(accuracy1_rf)"
   ]
  },
  {
   "cell_type": "markdown",
   "id": "8f30f41c",
   "metadata": {},
   "source": [
    "By comapring the accuracies, we can say that our best model is random forest on normal scaled data"
   ]
  },
  {
   "cell_type": "code",
   "execution_count": 62,
   "id": "43420903",
   "metadata": {},
   "outputs": [
    {
     "name": "stdout",
     "output_type": "stream",
     "text": [
      "              precision    recall  f1-score   support\n",
      "\n",
      "           0       0.99      1.00      0.99      4393\n",
      "           1       0.99      0.98      0.99      2649\n",
      "\n",
      "    accuracy                           0.99      7042\n",
      "   macro avg       0.99      0.99      0.99      7042\n",
      "weighted avg       0.99      0.99      0.99      7042\n",
      "\n",
      "              precision    recall  f1-score   support\n",
      "\n",
      "           0       0.72      0.63      0.67      1913\n",
      "           1       0.47      0.57      0.52      1106\n",
      "\n",
      "    accuracy                           0.61      3019\n",
      "   macro avg       0.60      0.60      0.60      3019\n",
      "weighted avg       0.63      0.61      0.62      3019\n",
      "\n"
     ]
    }
   ],
   "source": [
    "# classification_report\n",
    "print(classification_report(y_train,y_pred_train_lda_rf))\n",
    "print(classification_report(y_test,y_pred_test_lda_rf))"
   ]
  },
  {
   "cell_type": "code",
   "execution_count": 63,
   "id": "51597cff",
   "metadata": {},
   "outputs": [
    {
     "name": "stdout",
     "output_type": "stream",
     "text": [
      "              precision    recall  f1-score   support\n",
      "\n",
      "           0       0.99      1.00      0.99      4393\n",
      "           1       0.99      0.98      0.99      2649\n",
      "\n",
      "    accuracy                           0.99      7042\n",
      "   macro avg       0.99      0.99      0.99      7042\n",
      "weighted avg       0.99      0.99      0.99      7042\n",
      "\n",
      "              precision    recall  f1-score   support\n",
      "\n",
      "           0       0.77      0.86      0.81      1913\n",
      "           1       0.70      0.57      0.62      1106\n",
      "\n",
      "    accuracy                           0.75      3019\n",
      "   macro avg       0.73      0.71      0.72      3019\n",
      "weighted avg       0.74      0.75      0.74      3019\n",
      "\n"
     ]
    }
   ],
   "source": [
    "# classification_report\n",
    "print(classification_report(y_train,y_pred_train_rf))\n",
    "print(classification_report(y_test,y_pred_test_rf))"
   ]
  },
  {
   "cell_type": "code",
   "execution_count": null,
   "id": "c8d63353",
   "metadata": {},
   "outputs": [],
   "source": []
  }
 ],
 "metadata": {
  "kernelspec": {
   "display_name": "Python 3",
   "language": "python",
   "name": "python3"
  },
  "language_info": {
   "codemirror_mode": {
    "name": "ipython",
    "version": 3
   },
   "file_extension": ".py",
   "mimetype": "text/x-python",
   "name": "python",
   "nbconvert_exporter": "python",
   "pygments_lexer": "ipython3",
   "version": "3.8.8"
  }
 },
 "nbformat": 4,
 "nbformat_minor": 5
}
